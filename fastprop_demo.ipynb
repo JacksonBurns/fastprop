{
  "cells": [
    {
      "cell_type": "markdown",
      "metadata": {
        "id": "AkHrje9Uhfe5"
      },
      "source": [
        "# `fastprop` Demo Notebook\n",
        "\n",
        "[![Open In Colab](https://colab.research.google.com/assets/colab-badge.svg)](https://colab.research.google.com/github/jacksonburns/fastprop/blob/main/fastprop_demo.ipynb)\n",
        "\n",
        "This notebook show you how to run `fastprop` on some benchmark datasets!\n",
        "The results of running this notebook have been saved in-line, so you can scroll through without executing.\n",
        "To get the best feel for `fastprop`, we do recommend running the cells for yourself!\n",
        "\n",
        "When running, make sure you click **Runtime>Change Runtime Type** and select T4 GPU.\n",
        "This will give you access to a GPU that will *dramatically* speed up the neural network training."
      ]
    },
    {
      "cell_type": "markdown",
      "metadata": {
        "id": "KXNHacQqh_Km"
      },
      "source": [
        "## Installation\n",
        "This block shows the basic installation steps for `fastprop`, in this case installing from source by first cloning the GitHub repository.\n",
        "You could also install from `pip` using `pip install fastprop[hopt,shap]` but this demo uses some of the benchmarks included in the repository (and not the PyPI package).\n",
        "\n",
        "You can re-run this cell at any point in the future to 'reset' this demo."
      ]
    },
    {
      "cell_type": "code",
      "execution_count": 1,
      "metadata": {
        "id": "8KjnfwtAdibb"
      },
      "outputs": [],
      "source": [
        "%%capture\n",
        "%cd /content\n",
        "# remove existing code, if it exists\n",
        "!rm -rf fastprop || true\n",
        "!git clone https://github.com/JacksonBurns/fastprop\n",
        "%cd /content/fastprop\n",
        "!pip install .[hopt,shap]\n",
        "# for showing the repository layout\n",
        "!sudo apt-get install tree"
      ]
    },
    {
      "cell_type": "markdown",
      "metadata": {
        "id": "08TZ0CNAi8Cw"
      },
      "source": [
        "## Demo Polycyclic Aromatic Hydrocarbons (PAH)\n",
        "The GitHub repository for `fastprop` include a number of benchmarks, one of which is the PAH dataset.\n",
        "This one includes the needed input data in the repostory, so we can run it straight out of the box!\n",
        "\n",
        "### Preparing Your Data\n",
        "\n",
        "Let's start by looking at what the input files are to `fastprop`:"
      ]
    },
    {
      "cell_type": "code",
      "execution_count": 2,
      "metadata": {
        "colab": {
          "base_uri": "https://localhost:8080/"
        },
        "id": "3aChOAnkj2Jj",
        "outputId": "032eb7c4-ad60-49e1-b57c-9b405f4bef6b"
      },
      "outputs": [
        {
          "name": "stdout",
          "output_type": "stream",
          "text": [
            "/content/fastprop/benchmarks\n",
            "\u001b[01;34mpah\u001b[0m\n",
            "├── \u001b[00marockiaraj_pah_data.csv\u001b[0m\n",
            "├── \u001b[00mchemprop_pah.sh\u001b[0m\n",
            "└── \u001b[00mpah.yml\u001b[0m\n",
            "\n",
            "0 directories, 3 files\n"
          ]
        }
      ],
      "source": [
        "%cd /content/fastprop/benchmarks\n",
        "!tree pah"
      ]
    },
    {
      "cell_type": "markdown",
      "metadata": {
        "id": "6k3KR6Ccjfns"
      },
      "source": [
        "The `pah.yml` and `arockiaraj_pah_data.csv` files are the configuration files used for `fastprop`, and `chemprop_pah.sh` is a script to run Chemprop on the same dataset (try this out on your own later!).\n",
        "\n",
        "The data should be in a CSV file that looks something like this:"
      ]
    },
    {
      "cell_type": "code",
      "execution_count": 3,
      "metadata": {
        "colab": {
          "base_uri": "https://localhost:8080/"
        },
        "id": "3i0FRyQRku_U",
        "outputId": "d7eaec18-651e-4032-dc7e-e05cfd3f5ec5"
      },
      "outputs": [
        {
          "name": "stdout",
          "output_type": "stream",
          "text": [
            "compound,smiles,log_p,retention_index,boiling_point_c,acentric_factor\r\n",
            "Anthanthrene,C1=CC2=C3C(=C1)C=C4C=CC5=C6C4=C3C(=CC6=CC=C5)C=C2,7.04,3215,497.1,\r\n",
            "Anthracene,C1=CC=C2C=C3C=CC=CC3=CC2=C1,4.45,1804,337.4,0.477\r\n",
            "Benzene,C1=CC=CC=C1,2.04,979,80,0.21\r\n"
          ]
        }
      ],
      "source": [
        "!head -n 4 pah/arockiaraj_pah_data.csv"
      ]
    },
    {
      "cell_type": "markdown",
      "metadata": {
        "id": "U1eeGFMXk7-x"
      },
      "source": [
        "Note that there is one column that contains the SMILES string, and then a number of columns containing target values for each of the SMILES. You can call all columns anything _without spaces_, and there can be any number of them.\n",
        "\n",
        "Now, the configuration file:"
      ]
    },
    {
      "cell_type": "code",
      "execution_count": 4,
      "metadata": {
        "colab": {
          "base_uri": "https://localhost:8080/"
        },
        "id": "QQwy57tAlMdJ",
        "outputId": "dc70c8b4-2344-4790-b6d8-720fb70611f5"
      },
      "outputs": [
        {
          "name": "stdout",
          "output_type": "stream",
          "text": [
            "# The Polycyclic Aromatic Hydrocarbon (PAH) Dataset, as described in:\n",
            "# https://doi.org/10.1080/1062936X.2023.2239149\n",
            "#\n",
            "# The reference study did not include a digitized version of their dataset,\n",
            "# so I have included one here that I curated manually. All that was done\n",
            "# was to look up the SMILES strings for the PAHs, using either OPSIN (via\n",
            "# py22opsin), PubChem, or ChemSpider.\n",
            "#\n",
            "# Additional Comments:\n",
            "# \n",
            "\n",
            "# generic args\n",
            "output_directory: pah\n",
            "random_seed: 562\n",
            "problem_type: regression\n",
            "\n",
            "# featurization\n",
            "input_file: pah/arockiaraj_pah_data.csv\n",
            "target_columns: log_p\n",
            "smiles_column: smiles\n",
            "descriptor_set: all\n",
            "\n",
            "# training\n",
            "hidden_size: 128\n",
            "fnn_layers: 2\n",
            "number_repeats: 1\n",
            "number_epochs: 20\n",
            "batch_size: 64\n",
            "patience: 5\n",
            "train_size: 0.8\n",
            "val_size: 0.1\n",
            "test_size: 0.1\n",
            "sampler: random\n"
          ]
        }
      ],
      "source": [
        "!cat pah/pah.yml"
      ]
    },
    {
      "cell_type": "markdown",
      "metadata": {
        "id": "tLH_SWJXlQp-"
      },
      "source": [
        "All of the configuration options for `fastprop` can be specified in this file.\n",
        "Most important are the name of the column containing the SMILES string, and the name of the column (or columns, separate by a space) of the targets.\n",
        "\n",
        "For more information on each of the other options, check the [`fastprop` README](https://github.com/JacksonBurns/fastprop).\n",
        "\n",
        "Now we can train the model!"
      ]
    },
    {
      "cell_type": "code",
      "execution_count": 5,
      "metadata": {
        "colab": {
          "base_uri": "https://localhost:8080/"
        },
        "id": "bk3lj-86f4xM",
        "outputId": "9e036256-50f2-409c-cc24-19df5a3ec0e6"
      },
      "outputs": [
        {
          "name": "stdout",
          "output_type": "stream",
          "text": [
            "Seed set to 562\n",
            "[04/19/2024 07:32:02 PM fastprop.descriptors] INFO: Calculating descriptors\n",
            "/usr/lib/python3.10/multiprocessing/popen_fork.py:66: RuntimeWarning: os.fork() was called. os.fork() is incompatible with multithreaded code, and JAX is multithreaded, so this will likely lead to a deadlock.\n",
            "  self.pid = os.fork()\n",
            "100% 55/55 [01:53<00:00,  2.06s/it]\n",
            "[04/19/2024 07:33:56 PM fastprop.descriptors] INFO: Descriptor calculation complete, elapsed time: 0:01:53.434715\n",
            "[04/19/2024 07:33:56 PM fastprop.descriptors] INFO: Cached descriptors to pah/cached_arockiaraj_pah_data_all_1713554970.csv\n",
            "[04/19/2024 07:33:56 PM fastprop.cli.train] INFO: Run 'tensorboard --logdir pah/tensorboard_logs' to track training progress.\n",
            "[04/19/2024 07:33:56 PM fastprop.cli.train] INFO: Training model 1 of 1 (random_seed=562)\n",
            "/usr/local/lib/python3.10/dist-packages/astartes/main.py:325: ImperfectSplittingWarning: Actual train/test split differs from requested size. Requested validation size of 0.10, got 0.11. Requested test size of 0.10, got 0.11. \n",
            "  warn(\n",
            "[04/19/2024 07:33:56 PM fastprop.cli.train] INFO: Model architecture:\n",
            "{fastprop(\n",
            "  (fnn): Sequential(\n",
            "    (lin1): Linear(in_features=1613, out_features=128, bias=True)\n",
            "    (act1): ReLU()\n",
            "    (lin2): Linear(in_features=128, out_features=128, bias=True)\n",
            "    (act2): ReLU()\n",
            "  )\n",
            "  (readout): Linear(in_features=128, out_features=1, bias=True)\n",
            ")}\n",
            "GPU available: True (cuda), used: True\n",
            "TPU available: False, using: 0 TPU cores\n",
            "IPU available: False, using: 0 IPUs\n",
            "HPU available: False, using: 0 HPUs\n",
            "2024-04-19 19:33:58.989888: E external/local_xla/xla/stream_executor/cuda/cuda_dnn.cc:9261] Unable to register cuDNN factory: Attempting to register factory for plugin cuDNN when one has already been registered\n",
            "2024-04-19 19:33:58.989958: E external/local_xla/xla/stream_executor/cuda/cuda_fft.cc:607] Unable to register cuFFT factory: Attempting to register factory for plugin cuFFT when one has already been registered\n",
            "2024-04-19 19:33:59.075069: E external/local_xla/xla/stream_executor/cuda/cuda_blas.cc:1515] Unable to register cuBLAS factory: Attempting to register factory for plugin cuBLAS when one has already been registered\n",
            "2024-04-19 19:34:00.210568: W tensorflow/compiler/tf2tensorrt/utils/py_utils.cc:38] TF-TRT Warning: Could not find TensorRT\n",
            "LOCAL_RANK: 0 - CUDA_VISIBLE_DEVICES: [0]\n",
            "\n",
            "  | Name    | Type       | Params\n",
            "---------------------------------------\n",
            "0 | fnn     | Sequential | 223 K \n",
            "1 | readout | Linear     | 129   \n",
            "---------------------------------------\n",
            "223 K     Trainable params\n",
            "0         Non-trainable params\n",
            "223 K     Total params\n",
            "0.893     Total estimated model params size (MB)\n",
            "/usr/lib/python3.10/multiprocessing/popen_fork.py:66: RuntimeWarning: os.fork() was called. os.fork() is incompatible with multithreaded code, and JAX is multithreaded, so this will likely lead to a deadlock.\n",
            "  self.pid = os.fork()\n",
            "Epoch 0: 100% 1/1 [00:00<00:00,  3.50it/s, v_num=on_1]\n",
            "Validation: |          | 0/? [00:00<?, ?it/s]\u001b[A\n",
            "Validation:   0% 0/1 [00:00<?, ?it/s]        \u001b[A\n",
            "Validation DataLoader 0:   0% 0/1 [00:00<?, ?it/s]\u001b[A\n",
            "Validation DataLoader 0: 100% 1/1 [00:00<00:00, 151.81it/s]\u001b[A\n",
            "Epoch 1: 100% 1/1 [00:00<00:00, 118.19it/s, v_num=on_1]\n",
            "Validation: |          | 0/? [00:00<?, ?it/s]\u001b[A\n",
            "Validation:   0% 0/1 [00:00<?, ?it/s]        \u001b[A\n",
            "Validation DataLoader 0:   0% 0/1 [00:00<?, ?it/s]\u001b[A\n",
            "Validation DataLoader 0: 100% 1/1 [00:00<00:00, 218.28it/s]\u001b[A\n",
            "Epoch 2: 100% 1/1 [00:00<00:00, 122.53it/s, v_num=on_1]\n",
            "Validation: |          | 0/? [00:00<?, ?it/s]\u001b[A\n",
            "Validation:   0% 0/1 [00:00<?, ?it/s]        \u001b[A\n",
            "Validation DataLoader 0:   0% 0/1 [00:00<?, ?it/s]\u001b[A\n",
            "Validation DataLoader 0: 100% 1/1 [00:00<00:00, 204.76it/s]\u001b[A\n",
            "Epoch 3: 100% 1/1 [00:00<00:00, 134.31it/s, v_num=on_1]\n",
            "Validation: |          | 0/? [00:00<?, ?it/s]\u001b[A\n",
            "Validation:   0% 0/1 [00:00<?, ?it/s]        \u001b[A\n",
            "Validation DataLoader 0:   0% 0/1 [00:00<?, ?it/s]\u001b[A\n",
            "Validation DataLoader 0: 100% 1/1 [00:00<00:00, 221.45it/s]\u001b[A\n",
            "Epoch 4: 100% 1/1 [00:00<00:00, 117.04it/s, v_num=on_1]\n",
            "Validation: |          | 0/? [00:00<?, ?it/s]\u001b[A\n",
            "Validation:   0% 0/1 [00:00<?, ?it/s]        \u001b[A\n",
            "Validation DataLoader 0:   0% 0/1 [00:00<?, ?it/s]\u001b[A\n",
            "Validation DataLoader 0: 100% 1/1 [00:00<00:00, 216.32it/s]\u001b[A\n",
            "Epoch 5: 100% 1/1 [00:00<00:00, 125.51it/s, v_num=on_1]\n",
            "Validation: |          | 0/? [00:00<?, ?it/s]\u001b[A\n",
            "Validation:   0% 0/1 [00:00<?, ?it/s]        \u001b[A\n",
            "Validation DataLoader 0:   0% 0/1 [00:00<?, ?it/s]\u001b[A\n",
            "Validation DataLoader 0: 100% 1/1 [00:00<00:00, 215.30it/s]\u001b[A\n",
            "Epoch 6: 100% 1/1 [00:00<00:00, 143.27it/s, v_num=on_1]\n",
            "Validation: |          | 0/? [00:00<?, ?it/s]\u001b[A\n",
            "Validation:   0% 0/1 [00:00<?, ?it/s]        \u001b[A\n",
            "Validation DataLoader 0:   0% 0/1 [00:00<?, ?it/s]\u001b[A\n",
            "Validation DataLoader 0: 100% 1/1 [00:00<00:00, 229.79it/s]\u001b[A\n",
            "Epoch 7: 100% 1/1 [00:00<00:00, 128.88it/s, v_num=on_1]\n",
            "Validation: |          | 0/? [00:00<?, ?it/s]\u001b[A\n",
            "Validation:   0% 0/1 [00:00<?, ?it/s]        \u001b[A\n",
            "Validation DataLoader 0:   0% 0/1 [00:00<?, ?it/s]\u001b[A\n",
            "Validation DataLoader 0: 100% 1/1 [00:00<00:00, 147.69it/s]\u001b[A\n",
            "Epoch 8: 100% 1/1 [00:00<00:00, 112.67it/s, v_num=on_1]\n",
            "Validation: |          | 0/? [00:00<?, ?it/s]\u001b[A\n",
            "Validation:   0% 0/1 [00:00<?, ?it/s]        \u001b[A\n",
            "Validation DataLoader 0:   0% 0/1 [00:00<?, ?it/s]\u001b[A\n",
            "Validation DataLoader 0: 100% 1/1 [00:00<00:00, 210.47it/s]\u001b[A\n",
            "Epoch 9: 100% 1/1 [00:00<00:00, 128.20it/s, v_num=on_1]\n",
            "Validation: |          | 0/? [00:00<?, ?it/s]\u001b[A\n",
            "Validation:   0% 0/1 [00:00<?, ?it/s]        \u001b[A\n",
            "Validation DataLoader 0:   0% 0/1 [00:00<?, ?it/s]\u001b[A\n",
            "Validation DataLoader 0: 100% 1/1 [00:00<00:00, 215.21it/s]\u001b[A\n",
            "Epoch 10: 100% 1/1 [00:00<00:00, 144.00it/s, v_num=on_1]\n",
            "Validation: |          | 0/? [00:00<?, ?it/s]\u001b[A\n",
            "Validation:   0% 0/1 [00:00<?, ?it/s]        \u001b[A\n",
            "Validation DataLoader 0:   0% 0/1 [00:00<?, ?it/s]\u001b[A\n",
            "Validation DataLoader 0: 100% 1/1 [00:00<00:00, 209.48it/s]\u001b[A\n",
            "Epoch 11: 100% 1/1 [00:00<00:00, 126.67it/s, v_num=on_1]\n",
            "Validation: |          | 0/? [00:00<?, ?it/s]\u001b[A\n",
            "Validation:   0% 0/1 [00:00<?, ?it/s]        \u001b[A\n",
            "Validation DataLoader 0:   0% 0/1 [00:00<?, ?it/s]\u001b[A\n",
            "Validation DataLoader 0: 100% 1/1 [00:00<00:00, 220.99it/s]\u001b[A\n",
            "Epoch 12: 100% 1/1 [00:00<00:00, 95.25it/s, v_num=on_1]\n",
            "Validation: |          | 0/? [00:00<?, ?it/s]\u001b[A\n",
            "Validation:   0% 0/1 [00:00<?, ?it/s]        \u001b[A\n",
            "Validation DataLoader 0:   0% 0/1 [00:00<?, ?it/s]\u001b[A\n",
            "Validation DataLoader 0: 100% 1/1 [00:00<00:00, 186.23it/s]\u001b[A\n",
            "Epoch 13: 100% 1/1 [00:00<00:00, 143.68it/s, v_num=on_1]\n",
            "Validation: |          | 0/? [00:00<?, ?it/s]\u001b[A\n",
            "Validation:   0% 0/1 [00:00<?, ?it/s]        \u001b[A\n",
            "Validation DataLoader 0:   0% 0/1 [00:00<?, ?it/s]\u001b[A\n",
            "Validation DataLoader 0: 100% 1/1 [00:00<00:00, 192.18it/s]\u001b[A\n",
            "Epoch 14: 100% 1/1 [00:00<00:00, 130.44it/s, v_num=on_1]\n",
            "Validation: |          | 0/? [00:00<?, ?it/s]\u001b[A\n",
            "Validation:   0% 0/1 [00:00<?, ?it/s]        \u001b[A\n",
            "Validation DataLoader 0:   0% 0/1 [00:00<?, ?it/s]\u001b[A\n",
            "Validation DataLoader 0: 100% 1/1 [00:00<00:00, 231.64it/s]\u001b[A\n",
            "Epoch 15: 100% 1/1 [00:00<00:00, 137.17it/s, v_num=on_1]\n",
            "Validation: |          | 0/? [00:00<?, ?it/s]\u001b[A\n",
            "Validation:   0% 0/1 [00:00<?, ?it/s]        \u001b[A\n",
            "Validation DataLoader 0:   0% 0/1 [00:00<?, ?it/s]\u001b[A\n",
            "Validation DataLoader 0: 100% 1/1 [00:00<00:00, 252.20it/s]\u001b[A\n",
            "Epoch 16: 100% 1/1 [00:00<00:00, 149.65it/s, v_num=on_1]\n",
            "Validation: |          | 0/? [00:00<?, ?it/s]\u001b[A\n",
            "Validation:   0% 0/1 [00:00<?, ?it/s]        \u001b[A\n",
            "Validation DataLoader 0:   0% 0/1 [00:00<?, ?it/s]\u001b[A\n",
            "Validation DataLoader 0: 100% 1/1 [00:00<00:00, 233.04it/s]\u001b[A\n",
            "Epoch 17: 100% 1/1 [00:00<00:00, 125.75it/s, v_num=on_1]\n",
            "Validation: |          | 0/? [00:00<?, ?it/s]\u001b[A\n",
            "Validation:   0% 0/1 [00:00<?, ?it/s]        \u001b[A\n",
            "Validation DataLoader 0:   0% 0/1 [00:00<?, ?it/s]\u001b[A\n",
            "Validation DataLoader 0: 100% 1/1 [00:00<00:00, 247.10it/s]\u001b[A\n",
            "Epoch 18: 100% 1/1 [00:00<00:00, 149.13it/s, v_num=on_1]\n",
            "Validation: |          | 0/? [00:00<?, ?it/s]\u001b[A\n",
            "Validation:   0% 0/1 [00:00<?, ?it/s]        \u001b[A\n",
            "Validation DataLoader 0:   0% 0/1 [00:00<?, ?it/s]\u001b[A\n",
            "Validation DataLoader 0: 100% 1/1 [00:00<00:00, 252.99it/s]\u001b[A\n",
            "Epoch 19: 100% 1/1 [00:00<00:00, 130.93it/s, v_num=on_1]\n",
            "Validation: |          | 0/? [00:00<?, ?it/s]\u001b[A\n",
            "Validation:   0% 0/1 [00:00<?, ?it/s]        \u001b[A\n",
            "Validation DataLoader 0:   0% 0/1 [00:00<?, ?it/s]\u001b[A\n",
            "Validation DataLoader 0: 100% 1/1 [00:00<00:00, 215.98it/s]\u001b[A\n",
            "Epoch 19: 100% 1/1 [00:00<00:00, 50.87it/s, v_num=on_1]`Trainer.fit` stopped: `max_epochs=20` reached.\n",
            "Epoch 19: 100% 1/1 [00:00<00:00, 32.33it/s, v_num=on_1]\n",
            "[04/19/2024 07:34:03 PM fastprop.model] INFO: Elapsed time during training: 0:00:06.392899\n",
            "[04/19/2024 07:34:03 PM fastprop.model] INFO: Reloading best model from checkpoint file: pah/fastprop_1713555122/checkpoints/repetition-1-epoch=19-val_loss=0.00.ckpt\n",
            "LOCAL_RANK: 0 - CUDA_VISIBLE_DEVICES: [0]\n",
            "/usr/lib/python3.10/multiprocessing/popen_fork.py:66: RuntimeWarning: os.fork() was called. os.fork() is incompatible with multithreaded code, and JAX is multithreaded, so this will likely lead to a deadlock.\n",
            "  self.pid = os.fork()\n",
            "Validation DataLoader 0: 100% 1/1 [00:00<00:00, 50.70it/s]\n",
            "LOCAL_RANK: 0 - CUDA_VISIBLE_DEVICES: [0]\n",
            "/usr/lib/python3.10/multiprocessing/popen_fork.py:66: RuntimeWarning: os.fork() was called. os.fork() is incompatible with multithreaded code, and JAX is multithreaded, so this will likely lead to a deadlock.\n",
            "  self.pid = os.fork()\n",
            "Testing DataLoader 0: 100% 1/1 [00:00<00:00, 49.66it/s]\n",
            "[04/19/2024 07:34:03 PM fastprop.model] INFO: Displaying validation results for repetition 1:\n",
            "                                                             value\n",
            "validation_mse_loss                                       0.039866\n",
            "validation_r2_score                                       0.872485\n",
            "validation_mean_absolute_percentage_error_score           0.044972\n",
            "validation_weighted_mean_absolute_percentage_error_score  0.048963\n",
            "validation_mean_absolute_error_score                      0.358413\n",
            "validation_root_mean_squared_error_loss                   0.463780\n",
            "[04/19/2024 07:34:03 PM fastprop.model] INFO: Displaying validation results for repetition 1:\n",
            "                                                       value\n",
            "test_mse_loss                                       0.079504\n",
            "test_r2_score                                       0.690164\n",
            "test_mean_absolute_percentage_error_score           0.079382\n",
            "test_weighted_mean_absolute_percentage_error_score  0.077446\n",
            "test_mean_absolute_error_score                      0.570651\n",
            "test_root_mean_squared_error_loss                   0.654945\n",
            "[04/19/2024 07:34:03 PM fastprop.cli.train] INFO: Displaying validation results:\n",
            "                                                          count      mean  std       min       25%       50%       75%       max\n",
            "validation_mse_loss                                         1.0  0.039866  NaN  0.039866  0.039866  0.039866  0.039866  0.039866\n",
            "validation_r2_score                                         1.0  0.872485  NaN  0.872485  0.872485  0.872485  0.872485  0.872485\n",
            "validation_mean_absolute_percentage_error_score             1.0  0.044972  NaN  0.044972  0.044972  0.044972  0.044972  0.044972\n",
            "validation_weighted_mean_absolute_percentage_error_score    1.0  0.048963  NaN  0.048963  0.048963  0.048963  0.048963  0.048963\n",
            "validation_mean_absolute_error_score                        1.0  0.358413  NaN  0.358413  0.358413  0.358413  0.358413  0.358413\n",
            "validation_root_mean_squared_error_loss                     1.0  0.463780  NaN  0.463780  0.463780  0.463780  0.463780  0.463780\n",
            "[04/19/2024 07:34:03 PM fastprop.cli.train] INFO: Displaying testing results:\n",
            "                                                    count      mean  std       min       25%       50%       75%       max\n",
            "test_mse_loss                                         1.0  0.079504  NaN  0.079504  0.079504  0.079504  0.079504  0.079504\n",
            "test_r2_score                                         1.0  0.690164  NaN  0.690164  0.690164  0.690164  0.690164  0.690164\n",
            "test_mean_absolute_percentage_error_score             1.0  0.079382  NaN  0.079382  0.079382  0.079382  0.079382  0.079382\n",
            "test_weighted_mean_absolute_percentage_error_score    1.0  0.077446  NaN  0.077446  0.077446  0.077446  0.077446  0.077446\n",
            "test_mean_absolute_error_score                        1.0  0.570651  NaN  0.570651  0.570651  0.570651  0.570651  0.570651\n",
            "test_root_mean_squared_error_loss                     1.0  0.654945  NaN  0.654945  0.654945  0.654945  0.654945  0.654945\n",
            "[04/19/2024 07:34:03 PM fastprop.cli.train] INFO: fastprop is unable to generate statistics to check for overfitting, consider increasing 'num_repeats' to at least 2.\n",
            "[04/19/2024 07:34:03 PM fastprop.cli.base] INFO: If you use fastprop in published work, please cite https://arxiv.org/abs/2404.02058\n",
            "[04/19/2024 07:34:03 PM fastprop.cli.base] INFO: Total elapsed time: 0:02:00.910982\n"
          ]
        }
      ],
      "source": [
        "!fastprop train pah/pah.yml"
      ]
    },
    {
      "cell_type": "markdown",
      "metadata": {
        "id": "1wsNPT8XjR17"
      },
      "source": [
        "### Output from `fastprop train`\n",
        "Let's look at the `pah` directory to see what file we ended up with:"
      ]
    },
    {
      "cell_type": "code",
      "execution_count": 6,
      "metadata": {
        "colab": {
          "base_uri": "https://localhost:8080/"
        },
        "id": "zjJbks6-g7ZV",
        "outputId": "5c423ad7-8a73-4753-dedf-16652f67100d"
      },
      "outputs": [
        {
          "name": "stdout",
          "output_type": "stream",
          "text": [
            "\u001b[01;34mpah\u001b[0m\n",
            "├── \u001b[00marockiaraj_pah_data.csv\u001b[0m\n",
            "├── \u001b[00mcached_arockiaraj_pah_data_all_1713554970.csv\u001b[0m\n",
            "├── \u001b[00mchemprop_pah.sh\u001b[0m\n",
            "├── \u001b[01;34mfastprop_1713555122\u001b[0m\n",
            "│   ├── \u001b[01;34mcheckpoints\u001b[0m\n",
            "│   │   └── \u001b[00mrepetition-1-epoch=19-val_loss=0.00.ckpt\u001b[0m\n",
            "│   ├── \u001b[00mfastprop_log.txt\u001b[0m\n",
            "│   └── \u001b[01;34mtensorboard_logs\u001b[0m\n",
            "│       └── \u001b[01;34mrepetition_1\u001b[0m\n",
            "│           ├── \u001b[00mevents.out.tfevents.1713555240.1fb33fc37668.3606.0\u001b[0m\n",
            "│           ├── \u001b[00mevents.out.tfevents.1713555243.1fb33fc37668.3606.1\u001b[0m\n",
            "│           ├── \u001b[00mevents.out.tfevents.1713555243.1fb33fc37668.3606.2\u001b[0m\n",
            "│           └── \u001b[00mhparams.yaml\u001b[0m\n",
            "└── \u001b[00mpah.yml\u001b[0m\n",
            "\n",
            "4 directories, 10 files\n"
          ]
        }
      ],
      "source": [
        "!tree pah"
      ]
    },
    {
      "cell_type": "markdown",
      "metadata": {
        "id": "82dM2XGZmu82"
      },
      "source": [
        "First we have `cached_arockiaraj_data...csv` - after calculating the descriptors, `fastprop` caches them to a file.\n",
        "This means that on subsequent runs (if `enable_cache: True`, which it is by default) `fastprop` can reload them rather than spending the time calculating them again.\n",
        "\n",
        "All of the outpur from `fastprop` was also saved to a log file called `fastprop_log.txt` for future reference.\n",
        "\n",
        "`fastprop` created an output directory inside `pah` called `fastprop_timestamp`, and within that placed directories for:\n",
        " - `checkpoints` used for prediction and feature importance analysis\n",
        " - `csv_logs` which contain all of the metrics for training, test, and validation through training in CSV format for easy analysis\n",
        " - `tensorboard_logs` which has the files `tensorboard` uses to show model performance during training.\n",
        "\n",
        "For more information about `fastprop train`, see the `--help`:"
      ]
    },
    {
      "cell_type": "code",
      "execution_count": 7,
      "metadata": {
        "colab": {
          "base_uri": "https://localhost:8080/"
        },
        "id": "bVwwAvcWmsGH",
        "outputId": "2d0013b2-8681-4724-a0ff-176f5a880d80"
      },
      "outputs": [
        {
          "name": "stdout",
          "output_type": "stream",
          "text": [
            "usage: fastprop train [-h] [-od OUTPUT_DIRECTORY] [-if INPUT_FILE]\n",
            "                      [-tc TARGET_COLUMNS [TARGET_COLUMNS ...]] [-sc SMILES_COLUMN]\n",
            "                      [-d DESCRIPTORS] [-ec ENABLE_CACHE] [-p PRECOMPUTED] [-op] [-fl FNN_LAYERS]\n",
            "                      [-lr LEARNING_RATE] [-bs BATCH_SIZE] [-ne NUMBER_EPOCHS]\n",
            "                      [-nr NUMBER_REPEATS] [-pt PROBLEM_TYPE] [-ns TRAIN_SIZE] [-vs VAL_SIZE]\n",
            "                      [-ts TEST_SIZE] [-s SAMPLER] [-rs RANDOM_SEED] [-pc PATIENCE]\n",
            "                      [config_file]\n",
            "\n",
            "positional arguments:\n",
            "  config_file           YAML configuration file\n",
            "\n",
            "options:\n",
            "  -h, --help            show this help message and exit\n",
            "  -od OUTPUT_DIRECTORY, --output-directory OUTPUT_DIRECTORY\n",
            "                        directory for fastprop output\n",
            "  -if INPUT_FILE, --input-file INPUT_FILE\n",
            "                        csv of SMILES and targets\n",
            "  -tc TARGET_COLUMNS [TARGET_COLUMNS ...], --target-columns TARGET_COLUMNS [TARGET_COLUMNS ...]\n",
            "                        column name(s) for target(s)\n",
            "  -sc SMILES_COLUMN, --smiles-column SMILES_COLUMN\n",
            "                        column name for SMILES\n",
            "  -d DESCRIPTORS, --descriptors DESCRIPTORS\n",
            "                        descriptors to calculate (one of all, optimized, or debug)\n",
            "  -ec ENABLE_CACHE, --enable-cache ENABLE_CACHE\n",
            "                        allow saving and loading of cached descriptors\n",
            "  -p PRECOMPUTED, --precomputed PRECOMPUTED\n",
            "                        precomputed descriptors from fastprop or mordred\n",
            "  -op, --optimize       run hyperparameter optimization\n",
            "  -fl FNN_LAYERS, --fnn-layers FNN_LAYERS\n",
            "                        number of fnn layers\n",
            "  -lr LEARNING_RATE, --learning-rate LEARNING_RATE\n",
            "                        learning rate\n",
            "  -bs BATCH_SIZE, --batch-size BATCH_SIZE\n",
            "                        batch size\n",
            "  -ne NUMBER_EPOCHS, --number-epochs NUMBER_EPOCHS\n",
            "                        number of epochs\n",
            "  -nr NUMBER_REPEATS, --number-repeats NUMBER_REPEATS\n",
            "                        number of repeats\n",
            "  -pt PROBLEM_TYPE, --problem-type PROBLEM_TYPE\n",
            "                        problem type (regression or a type of classification)\n",
            "  -ns TRAIN_SIZE, --train-size TRAIN_SIZE\n",
            "                        train size\n",
            "  -vs VAL_SIZE, --val-size VAL_SIZE\n",
            "                        val size\n",
            "  -ts TEST_SIZE, --test-size TEST_SIZE\n",
            "                        test size\n",
            "  -s SAMPLER, --sampler SAMPLER\n",
            "                        choice of sampler, i.e. random, kmeans, etc.\n",
            "  -rs RANDOM_SEED, --random-seed RANDOM_SEED\n",
            "                        random seed for sampling and pytorch seed\n",
            "  -pc PATIENCE, --patience PATIENCE\n",
            "                        number of epochs to wait before early stopping\n"
          ]
        }
      ],
      "source": [
        "!fastprop train --help"
      ]
    },
    {
      "cell_type": "markdown",
      "metadata": {
        "id": "tymP6qeemU1_"
      },
      "source": [
        "### Predicting with Your Model\n",
        "After training is completed, you can run `fastprop predict` to make predictions."
      ]
    },
    {
      "cell_type": "code",
      "execution_count": 8,
      "metadata": {
        "colab": {
          "base_uri": "https://localhost:8080/"
        },
        "id": "J_WsdsDGmf8j",
        "outputId": "3b965048-3356-4670-eeb7-660cc62ba9b0"
      },
      "outputs": [
        {
          "name": "stdout",
          "output_type": "stream",
          "text": [
            "usage: fastprop predict [-h] [-ss SMILES_STRINGS [SMILES_STRINGS ...] | -sf SMILES_FILE]\n",
            "                        (-ds DESCRIPTOR_SET | -pd PRECOMPUTED_DESCRIPTORS) [-o OUTPUT]\n",
            "                        checkpoints_dir\n",
            "\n",
            "positional arguments:\n",
            "  checkpoints_dir       directory of checkpoint file(s) for predictions\n",
            "\n",
            "options:\n",
            "  -h, --help            show this help message and exit\n",
            "  -ss SMILES_STRINGS [SMILES_STRINGS ...], --smiles-strings SMILES_STRINGS [SMILES_STRINGS ...]\n",
            "                        SMILES string(s) for prediction\n",
            "  -sf SMILES_FILE, --smiles-file SMILES_FILE\n",
            "                        file containing SMILES strings only\n",
            "  -ds DESCRIPTOR_SET, --descriptor-set DESCRIPTOR_SET\n",
            "                        descriptors to calculate (one of all, optimized, or debug)\n",
            "  -pd PRECOMPUTED_DESCRIPTORS, --precomputed-descriptors PRECOMPUTED_DESCRIPTORS\n",
            "                        precomputed descriptors\n",
            "  -o OUTPUT, --output OUTPUT\n",
            "                        output file for predictions (defaults to stdout)\n"
          ]
        }
      ],
      "source": [
        "!fastprop predict --help"
      ]
    },
    {
      "cell_type": "markdown",
      "metadata": {
        "id": "PspNd5g4m1cN"
      },
      "source": [
        "Now to make predictions using the model we just trained, we use this command which will load all of trained models are run inference on the SMILES string we pass in (napthalene):\n",
        "\n",
        "_Note: If you run this notebook live, you will need to change the string of numbers after `fastprop_` to match your local run! Google colab should help you with an autofill suggestion._"
      ]
    },
    {
      "cell_type": "code",
      "execution_count": 11,
      "metadata": {
        "colab": {
          "base_uri": "https://localhost:8080/"
        },
        "id": "WALs2qaAm4Fi",
        "outputId": "4c0f4e9a-9588-4af1-f0de-4007e806a4f1"
      },
      "outputs": [
        {
          "name": "stdout",
          "output_type": "stream",
          "text": [
            "/usr/lib/python3.10/multiprocessing/popen_fork.py:66: RuntimeWarning: os.fork() was called. os.fork() is incompatible with multithreaded code, and JAX is multithreaded, so this will likely lead to a deadlock.\n",
            "  self.pid = os.fork()\n",
            "100% 1/1 [00:00<00:00,  6.88it/s]\n",
            "GPU available: True (cuda), used: True\n",
            "TPU available: False, using: 0 TPU cores\n",
            "IPU available: False, using: 0 IPUs\n",
            "HPU available: False, using: 0 HPUs\n",
            "LOCAL_RANK: 0 - CUDA_VISIBLE_DEVICES: [0]\n",
            "Predicting DataLoader 0: 100% 1/1 [00:00<00:00,  7.95it/s]\n",
            "\n",
            "                  task_0  task_0_stdev\n",
            "c1c2ccccc2ccc1  1.74838           0.0\n"
          ]
        }
      ],
      "source": [
        "!fastprop predict pah/fastprop_1713555122/checkpoints --smiles-strings c1c2ccccc2ccc1 -ds all"
      ]
    },
    {
      "cell_type": "markdown",
      "metadata": {
        "id": "V7jv-B2Pmmi8"
      },
      "source": [
        "### Feature Importance with SHAP\n",
        "`fastprop` can also calculate the importance of the various molecular descriptors using SHAP."
      ]
    },
    {
      "cell_type": "code",
      "execution_count": 12,
      "metadata": {
        "colab": {
          "base_uri": "https://localhost:8080/"
        },
        "id": "roET_L4P87ck",
        "outputId": "e23bd9dc-1c2f-4047-d6c5-b10f88fdf38f"
      },
      "outputs": [
        {
          "name": "stdout",
          "output_type": "stream",
          "text": [
            "usage: fastprop shap [-h] [-it IMPORTANCE_THRESHOLD]\n",
            "                     checkpoints_dir cached_descriptors descriptor_set\n",
            "\n",
            "positional arguments:\n",
            "  checkpoints_dir       directory of checkpoint file(s) for SHAP analysis\n",
            "  cached_descriptors    csv of calculated descriptors cached by fastprop\n",
            "  descriptor_set        descriptors in the cache file (one of all, optimized, or debug)\n",
            "\n",
            "options:\n",
            "  -h, --help            show this help message and exit\n",
            "  -it IMPORTANCE_THRESHOLD, --importance-threshold IMPORTANCE_THRESHOLD\n",
            "                        [0-1] include top fraction of features, default 0.75\n"
          ]
        }
      ],
      "source": [
        "!fastprop shap --help"
      ]
    },
    {
      "cell_type": "markdown",
      "metadata": {
        "id": "pk0EZnpo9GL2"
      },
      "source": [
        "Since we have a huge number of input features, the `--importance-threshold` can be used to cut down on the number that are shown in the output plot.\n",
        "This scalar value between 0 and 1 dicates how important a feature must be to be shown - for example, if you set it to 0.90 you are asking to include features that are at least 90% as important as the most important feature.\n",
        "\n",
        "Let's try it on this dataset:"
      ]
    },
    {
      "cell_type": "code",
      "execution_count": 17,
      "metadata": {
        "colab": {
          "base_uri": "https://localhost:8080/"
        },
        "id": "5B3XrFXZ9Fvm",
        "outputId": "95f71d00-c396-4c2d-e823-013f86291ded"
      },
      "outputs": [
        {
          "name": "stdout",
          "output_type": "stream",
          "text": [
            "\rCalculating SHAP values for each model:   0% 0/1 [00:00<?, ?it/s]\rCalculating SHAP values for each model: 100% 1/1 [00:00<00:00,  5.02it/s]\rCalculating SHAP values for each model: 100% 1/1 [00:00<00:00,  5.02it/s]\n"
          ]
        }
      ],
      "source": [
        "!fastprop shap pah/fastprop_1713555122/checkpoints pah/cached_arockiaraj_pah_data_all_1713554970.csv all -it 0.90"
      ]
    },
    {
      "cell_type": "code",
      "execution_count": 18,
      "metadata": {
        "colab": {
          "base_uri": "https://localhost:8080/",
          "height": 434
        },
        "id": "Ny89BTOu98VX",
        "outputId": "a0718374-8a37-40bc-82d9-7ab184d5ca5d"
      },
      "outputs": [
        {
          "data": {
            "image/png": "[encoded data removed]",
            "text/plain": [
              "<IPython.core.display.Image object>"
            ]
          },
          "execution_count": 18,
          "metadata": {},
          "output_type": "execute_result"
        }
      ],
      "source": [
        "from IPython.display import Image\n",
        "Image('task_0_feature_importance_beeswarm.png')"
      ]
    },
    {
      "cell_type": "markdown",
      "metadata": {
        "id": "mPqU2Oa4_aGm"
      },
      "source": [
        "For small datasets like this one (55 points total) it can be difficult to parse a lot out of the SHAP analysis.\n",
        "Coarsely, we can see that AATS-derived descriptors are the most important, and that they generally have a positive effect on the predicted partition coefficient.\n",
        "For more information on which each of these descriptors means, check the documentation link printed in the log output.\n",
        "\n",
        "This concludes the tutorial for `fastprop`.\n",
        "Note that you can also use `fastprop` as a Python module - see [the `benchmark` example for QuantumScents](https://github.com/JacksonBurns/fastprop/blob/main/benchmarks/quantumscents/quantumscents.py) on the GitHub page for more information."
      ]
    }
  ],
  "metadata": {
    "accelerator": "GPU",
    "colab": {
      "provenance": []
    },
    "kernelspec": {
      "display_name": ".venv",
      "language": "python",
      "name": "python3"
    },
    "language_info": {
      "name": "python",
      "version": "3.12.3"
    }
  },
  "nbformat": 4,
  "nbformat_minor": 0
}
