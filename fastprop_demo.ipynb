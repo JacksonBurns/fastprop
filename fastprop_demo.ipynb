{
  "cells": [
    {
      "cell_type": "markdown",
      "metadata": {
        "id": "AkHrje9Uhfe5"
      },
      "source": [
        "# `fastprop` Demo Notebook\n",
        "This notebook show you how to run `fastprop` on some benchmark datasets!\n",
        "The results of running this notebook have been saved in-line, so you can scroll through without executing.\n",
        "To get the best feel for `fastprop`, we do reccomend running the cells for yourself!\n",
        "\n",
        "When running, make sure you click **Runtime>Change Runtime Type** and select T4 GPU.\n",
        "This will give you access to a GPU that will *dramatically* speed up the neural network training."
      ]
    },
    {
      "cell_type": "markdown",
      "metadata": {
        "id": "KXNHacQqh_Km"
      },
      "source": [
        "## Installation\n",
        "This block shows the basic installation steps for `fastprop`, in this case installing from source by first cloning the GitHub repository.\n",
        "You could also install from `pip` using `pip install fastprop[hopt,shap]` but this demo uses some of the benchmarks included in the repository (and not the PyPI package).\n",
        "\n",
        "You can re-run this cell at any point in the future to 'reset' this demo."
      ]
    },
    {
      "cell_type": "code",
      "execution_count": 12,
      "metadata": {
        "id": "8KjnfwtAdibb"
      },
      "outputs": [],
      "source": [
        "%%capture\n",
        "%cd /content\n",
        "# remove existing code, if it exists\n",
        "!rm -rf fastprop || true\n",
        "!git clone https://github.com/JacksonBurns/fastprop\n",
        "%cd /content/fastprop\n",
        "!pip install .[hopt,shap]\n",
        "# for showing the repository layout\n",
        "!sudo apt-get install tree"
      ]
    },
    {
      "cell_type": "markdown",
      "metadata": {
        "id": "08TZ0CNAi8Cw"
      },
      "source": [
        "## Demo Polycyclic Aromatic Hydrocarbons (PAH)\n",
        "The GitHub repository for `fastprop` include a number of benchmarks, one of which is the PAH dataset.\n",
        "This one includes the needed input data in the repostory, so we can run it straight out of the box!\n",
        "\n",
        "### Preparing Your Data\n",
        "\n",
        "Let's start by looking at what the input files are to `fastprop`:"
      ]
    },
    {
      "cell_type": "code",
      "execution_count": 13,
      "metadata": {
        "colab": {
          "base_uri": "https://localhost:8080/"
        },
        "id": "3aChOAnkj2Jj",
        "outputId": "a4c83eb1-6897-44f0-ff7f-223bdf924092"
      },
      "outputs": [
        {
          "output_type": "stream",
          "name": "stdout",
          "text": [
            "/content/fastprop/benchmarks\n",
            "\u001b[01;34mpah\u001b[0m\n",
            "├── \u001b[00marockiaraj_pah_data.csv\u001b[0m\n",
            "├── \u001b[00mchemprop_pah.sh\u001b[0m\n",
            "└── \u001b[00mpah.yml\u001b[0m\n",
            "\n",
            "0 directories, 3 files\n"
          ]
        }
      ],
      "source": [
        "%cd /content/fastprop/benchmarks\n",
        "!tree pah"
      ]
    },
    {
      "cell_type": "markdown",
      "metadata": {
        "id": "6k3KR6Ccjfns"
      },
      "source": [
        "The `pah.yml` and `arockiaraj_pah_data.csv` files are the configuration files used for `fastprop`, and `chemprop_pah.sh` is a script to run Chemprop on the same dataset (try this out on your own later!).\n",
        "\n",
        "The data should be in a CSV file that looks something like this:"
      ]
    },
    {
      "cell_type": "code",
      "execution_count": 14,
      "metadata": {
        "colab": {
          "base_uri": "https://localhost:8080/"
        },
        "id": "3i0FRyQRku_U",
        "outputId": "03a71a9d-9e19-4ee6-d8f8-ac854f3bfbd4"
      },
      "outputs": [
        {
          "output_type": "stream",
          "name": "stdout",
          "text": [
            "compound,smiles,log_p,retention_index,boiling_point_c,acentric_factor\r\n",
            "Anthanthrene,C1=CC2=C3C(=C1)C=C4C=CC5=C6C4=C3C(=CC6=CC=C5)C=C2,7.04,3215,497.1,\r\n",
            "Anthracene,C1=CC=C2C=C3C=CC=CC3=CC2=C1,4.45,1804,337.4,0.477\r\n",
            "Benzene,C1=CC=CC=C1,2.04,979,80,0.21\r\n"
          ]
        }
      ],
      "source": [
        "!head -n 4 pah/arockiaraj_pah_data.csv"
      ]
    },
    {
      "cell_type": "markdown",
      "metadata": {
        "id": "U1eeGFMXk7-x"
      },
      "source": [
        "Note that there is one column that contains the SMILES string, and then a number of columns containing target values for each of the SMILES. You can call all columns anything _without spaces_, and there can be any number of them.\n",
        "\n",
        "Now, the configuration file:"
      ]
    },
    {
      "cell_type": "code",
      "execution_count": 15,
      "metadata": {
        "colab": {
          "base_uri": "https://localhost:8080/"
        },
        "id": "QQwy57tAlMdJ",
        "outputId": "6a8a8e14-5501-4002-b8f3-e22af3741158"
      },
      "outputs": [
        {
          "output_type": "stream",
          "name": "stdout",
          "text": [
            "# The Polycyclic Aromatic Hydrocarbon (PAH) Dataset, as described in:\n",
            "# https://doi.org/10.1080/1062936X.2023.2239149\n",
            "#\n",
            "# The reference study did not include a digitized version of their dataset,\n",
            "# so I have included one here that I curated manually. All that was done\n",
            "# was to look up the SMILES strings for the PAHs, using either OPSIN (via\n",
            "# py22opsin), PubChem, or ChemSpider.\n",
            "#\n",
            "# Additional Comments:\n",
            "# \n",
            "\n",
            "\n",
            "# generic args\n",
            "output_directory: pah\n",
            "random_seed: 55\n",
            "problem_type: regression\n",
            "\n",
            "# featurization\n",
            "input_file: pah/arockiaraj_pah_data.csv\n",
            "target_columns: log_p\n",
            "smiles_column: smiles\n",
            "descriptors: all\n",
            "\n",
            "# preprocessing\n",
            "rescaling: True\n",
            "zero_variance_drop: False\n",
            "colinear_drop: False\n",
            "\n",
            "# training\n",
            "number_repeats: 4\n",
            "number_epochs: 100\n",
            "batch_size: 64\n",
            "patience: 15\n",
            "train_size: 0.8\n",
            "val_size: 0.1\n",
            "test_size: 0.1\n",
            "sampler: random\n"
          ]
        }
      ],
      "source": [
        "!cat pah/pah.yml"
      ]
    },
    {
      "cell_type": "markdown",
      "metadata": {
        "id": "tLH_SWJXlQp-"
      },
      "source": [
        "All of the configuration options for `fastprop` can be specified in this file.\n",
        "Most important are the name of the column containing the SMILES string, and the name of the column (or columns, separate by a space) of the targets.\n",
        "\n",
        "For more information on each of the other options, check the [`fastprop` README](https://github.com/JacksonBurns/fastprop).\n",
        "\n",
        "Now we can train the model!"
      ]
    },
    {
      "cell_type": "code",
      "execution_count": 17,
      "metadata": {
        "colab": {
          "base_uri": "https://localhost:8080/"
        },
        "id": "bk3lj-86f4xM",
        "outputId": "3a18a34e-9cef-475d-c5db-4d50cfff74f0"
      },
      "outputs": [
        {
          "output_type": "stream",
          "name": "stdout",
          "text": [
            "[02/08/2024 06:12:35 PM numexpr.utils] INFO: NumExpr defaulting to 2 threads.\n",
            "[02/08/2024 06:12:43 PM fastprop.cli.fastprop_cli] INFO: Training Parameters:\n",
            " descriptors: all\n",
            "enable_cache: true\n",
            "precomputed: null\n",
            "rescaling: true\n",
            "zero_variance_drop: false\n",
            "colinear_drop: false\n",
            "fnn_layers: 2\n",
            "learning_rate: 0.0001\n",
            "batch_size: 64\n",
            "number_epochs: 100\n",
            "number_repeats: 4\n",
            "problem_type: regression\n",
            "checkpoint: null\n",
            "train_size: 0.8\n",
            "val_size: 0.1\n",
            "test_size: 0.1\n",
            "sampler: random\n",
            "random_seed: 55\n",
            "hidden_size: 1800\n",
            "patience: 15\n",
            "output_directory: pah\n",
            "input_file: pah/arockiaraj_pah_data.csv\n",
            "target_columns:\n",
            "- log_p\n",
            "smiles_column: smiles\n",
            "\n",
            "[02/08/2024 06:12:43 PM fastprop.utils.validate_config] WARNING: TODO: Input validation has not been implemented! Skipping.\n",
            "[02/08/2024 06:12:43 PM fastprop.utils.load_data] INFO: Generating RDKit molecules from SMILES.\n",
            "[02/08/2024 06:12:43 PM fastprop.utils.calculate_descriptors] INFO: Calculating descriptors using strategy='fast'\n",
            "100% 55/55 [02:08<00:00,  2.34s/it]\n",
            "[02/08/2024 06:14:53 PM fastprop.utils.calculate_descriptors] INFO: Cached descriptors to pah/cached_arockiaraj_pah_data_all_1707415931.csv.\n",
            "[02/08/2024 06:14:53 PM fastprop.train] INFO: Preprocessing data...\n",
            "[02/08/2024 06:14:53 PM fastprop.preprocessing] INFO: size after clean (impute missing, scale to unit variance): (55, 1443)\n",
            "[02/08/2024 06:14:53 PM fastprop.train] INFO: ...done.\n",
            "Actual train/test split differs from requested size. Requested validation size of 0.10, got 0.11. Requested test size of 0.10, got 0.11. \n",
            "[02/08/2024 06:14:53 PM fastprop.utils.linear_baseline] INFO: Training ElasticNet(random_state=55) model repetition 0 as baseline...\n",
            "Objective did not converge. You might want to increase the number of iterations, check the scale of the features or consider increasing regularisation. Duality gap: 1.042e-02, tolerance: 5.201e-03\n",
            "[02/08/2024 06:14:53 PM fastprop.utils.linear_baseline] INFO: ...done.\n",
            "[02/08/2024 06:14:53 PM fastprop.utils.linear_baseline] INFO: Baseline linear model statistics for validation:\n",
            "[02/08/2024 06:14:53 PM fastprop.utils.linear_baseline] INFO: RMSE: 0.5056\n",
            "[02/08/2024 06:14:53 PM fastprop.utils.linear_baseline] INFO: MAE: 0.3970\n",
            "[02/08/2024 06:14:53 PM fastprop.utils.linear_baseline] INFO: wMAPE: 0.0534\n",
            "[02/08/2024 06:14:53 PM fastprop.utils.linear_baseline] INFO: MAPE: 0.0590\n",
            "[02/08/2024 06:14:53 PM fastprop.utils.linear_baseline] INFO: Baseline linear model statistics for test:\n",
            "[02/08/2024 06:14:53 PM fastprop.utils.linear_baseline] INFO: RMSE: 0.4935\n",
            "[02/08/2024 06:14:53 PM fastprop.utils.linear_baseline] INFO: MAE: 0.4221\n",
            "[02/08/2024 06:14:53 PM fastprop.utils.linear_baseline] INFO: wMAPE: 0.0567\n",
            "[02/08/2024 06:14:53 PM fastprop.utils.linear_baseline] INFO: MAPE: 0.0628\n",
            "Actual train/test split differs from requested size. Requested validation size of 0.10, got 0.11. Requested test size of 0.10, got 0.11. \n",
            "[02/08/2024 06:14:53 PM fastprop.utils.linear_baseline] INFO: Training ElasticNet(random_state=56) model repetition 1 as baseline...\n",
            "Objective did not converge. You might want to increase the number of iterations, check the scale of the features or consider increasing regularisation. Duality gap: 8.608e-03, tolerance: 4.688e-03\n",
            "[02/08/2024 06:14:53 PM fastprop.utils.linear_baseline] INFO: ...done.\n",
            "[02/08/2024 06:14:53 PM fastprop.utils.linear_baseline] INFO: Baseline linear model statistics for validation:\n",
            "[02/08/2024 06:14:53 PM fastprop.utils.linear_baseline] INFO: RMSE: 0.4986\n",
            "[02/08/2024 06:14:53 PM fastprop.utils.linear_baseline] INFO: MAE: 0.4200\n",
            "[02/08/2024 06:14:53 PM fastprop.utils.linear_baseline] INFO: wMAPE: 0.0549\n",
            "[02/08/2024 06:14:53 PM fastprop.utils.linear_baseline] INFO: MAPE: 0.0572\n",
            "[02/08/2024 06:14:53 PM fastprop.utils.linear_baseline] INFO: Baseline linear model statistics for test:\n",
            "[02/08/2024 06:14:53 PM fastprop.utils.linear_baseline] INFO: RMSE: 1.2014\n",
            "[02/08/2024 06:14:53 PM fastprop.utils.linear_baseline] INFO: MAE: 1.0411\n",
            "[02/08/2024 06:14:53 PM fastprop.utils.linear_baseline] INFO: wMAPE: 0.1354\n",
            "[02/08/2024 06:14:53 PM fastprop.utils.linear_baseline] INFO: MAPE: 0.1893\n",
            "Actual train/test split differs from requested size. Requested validation size of 0.10, got 0.11. Requested test size of 0.10, got 0.11. \n",
            "[02/08/2024 06:14:53 PM fastprop.utils.linear_baseline] INFO: Training ElasticNet(random_state=57) model repetition 2 as baseline...\n",
            "[02/08/2024 06:14:53 PM fastprop.utils.linear_baseline] INFO: ...done.\n",
            "[02/08/2024 06:14:53 PM fastprop.utils.linear_baseline] INFO: Baseline linear model statistics for validation:\n",
            "[02/08/2024 06:14:53 PM fastprop.utils.linear_baseline] INFO: RMSE: 1.4454\n",
            "[02/08/2024 06:14:53 PM fastprop.utils.linear_baseline] INFO: MAE: 1.0396\n",
            "[02/08/2024 06:14:53 PM fastprop.utils.linear_baseline] INFO: wMAPE: 0.1502\n",
            "[02/08/2024 06:14:53 PM fastprop.utils.linear_baseline] INFO: MAPE: 0.2351\n",
            "[02/08/2024 06:14:53 PM fastprop.utils.linear_baseline] INFO: Baseline linear model statistics for test:\n",
            "[02/08/2024 06:14:53 PM fastprop.utils.linear_baseline] INFO: RMSE: 3.4093\n",
            "[02/08/2024 06:14:53 PM fastprop.utils.linear_baseline] INFO: MAE: 2.5943\n",
            "[02/08/2024 06:14:53 PM fastprop.utils.linear_baseline] INFO: wMAPE: 0.2616\n",
            "[02/08/2024 06:14:53 PM fastprop.utils.linear_baseline] INFO: MAPE: 0.2283\n",
            "Actual train/test split differs from requested size. Requested validation size of 0.10, got 0.11. Requested test size of 0.10, got 0.11. \n",
            "[02/08/2024 06:14:53 PM fastprop.utils.linear_baseline] INFO: Training ElasticNet(random_state=58) model repetition 3 as baseline...\n",
            "[02/08/2024 06:14:53 PM fastprop.utils.linear_baseline] INFO: ...done.\n",
            "[02/08/2024 06:14:53 PM fastprop.utils.linear_baseline] INFO: Baseline linear model statistics for validation:\n",
            "[02/08/2024 06:14:53 PM fastprop.utils.linear_baseline] INFO: RMSE: 3.5556\n",
            "[02/08/2024 06:14:53 PM fastprop.utils.linear_baseline] INFO: MAE: 2.3275\n",
            "[02/08/2024 06:14:53 PM fastprop.utils.linear_baseline] INFO: wMAPE: 0.2667\n",
            "[02/08/2024 06:14:53 PM fastprop.utils.linear_baseline] INFO: MAPE: 0.2197\n",
            "[02/08/2024 06:14:53 PM fastprop.utils.linear_baseline] INFO: Baseline linear model statistics for test:\n",
            "[02/08/2024 06:14:53 PM fastprop.utils.linear_baseline] INFO: RMSE: 0.6020\n",
            "[02/08/2024 06:14:53 PM fastprop.utils.linear_baseline] INFO: MAE: 0.3933\n",
            "[02/08/2024 06:14:53 PM fastprop.utils.linear_baseline] INFO: wMAPE: 0.0485\n",
            "[02/08/2024 06:14:53 PM fastprop.utils.linear_baseline] INFO: MAPE: 0.0442\n",
            "[02/08/2024 06:14:53 PM fastprop.utils.linear_baseline] INFO: Displaying summary baseline results:\n",
            "                  count      mean       std       min       25%       50%       75%       max\n",
            "validation-l2       4.0  1.501311  1.439907  0.498605  0.503870  0.975523  1.972964  3.555591\n",
            "validation-l1       4.0  1.046043  0.904695  0.397039  0.414253  0.729797  1.361586  2.327539\n",
            "validation-wmape    4.0  0.131330  0.100993  0.053423  0.054553  0.102581  0.179358  0.266736\n",
            "validation-mape     4.0  0.142748  0.097961  0.057226  0.058522  0.139309  0.223535  0.235147\n",
            "test-l2             4.0  1.426579  1.357993  0.493530  0.574917  0.901729  1.753390  3.409329\n",
            "test-l1             4.0  1.112703  1.031931  0.393323  0.414918  0.731601  1.429386  2.594288\n",
            "test-wmape          4.0  0.125553  0.098766  0.048518  0.054691  0.096065  0.166928  0.261565\n",
            "test-mape           4.0  0.131143  0.091373  0.044172  0.058172  0.126048  0.199018  0.228305\n",
            "[02/08/2024 06:14:54 PM fastprop.fastprop_core] INFO: Training model 1 of 4\n",
            "[02/08/2024 06:14:54 PM pytorch_lightning.utilities.rank_zero] INFO: GPU available: True (cuda), used: True\n",
            "[02/08/2024 06:14:54 PM pytorch_lightning.utilities.rank_zero] INFO: TPU available: False, using: 0 TPU cores\n",
            "[02/08/2024 06:14:54 PM pytorch_lightning.utilities.rank_zero] INFO: IPU available: False, using: 0 IPUs\n",
            "[02/08/2024 06:14:54 PM pytorch_lightning.utilities.rank_zero] INFO: HPU available: False, using: 0 HPUs\n",
            "2024-02-08 18:14:54.687764: E external/local_xla/xla/stream_executor/cuda/cuda_dnn.cc:9261] Unable to register cuDNN factory: Attempting to register factory for plugin cuDNN when one has already been registered\n",
            "2024-02-08 18:14:54.687818: E external/local_xla/xla/stream_executor/cuda/cuda_fft.cc:607] Unable to register cuFFT factory: Attempting to register factory for plugin cuFFT when one has already been registered\n",
            "2024-02-08 18:14:54.689122: E external/local_xla/xla/stream_executor/cuda/cuda_blas.cc:1515] Unable to register cuBLAS factory: Attempting to register factory for plugin cuBLAS when one has already been registered\n",
            "2024-02-08 18:14:56.092846: W tensorflow/compiler/tf2tensorrt/utils/py_utils.cc:38] TF-TRT Warning: Could not find TensorRT\n",
            "[02/08/2024 06:14:56 PM fastprop.fastprop_core] INFO: Sampling dataset with random sampler.\n",
            "Actual train/test split differs from requested size. Requested validation size of 0.10, got 0.11. Requested test size of 0.10, got 0.11. \n",
            "Checkpoint directory /content/fastprop/benchmarks/pah/fastprop_1707415963/checkpoints exists and is not empty.\n",
            "[02/08/2024 06:14:56 PM pytorch_lightning.accelerators.cuda] INFO: LOCAL_RANK: 0 - CUDA_VISIBLE_DEVICES: [0]\n",
            "[02/08/2024 06:14:57 PM pytorch_lightning.callbacks.model_summary] INFO: \n",
            "  | Name    | Type       | Params\n",
            "---------------------------------------\n",
            "0 | fnn     | Sequential | 5.8 M \n",
            "1 | readout | Linear     | 1.8 K \n",
            "---------------------------------------\n",
            "5.8 M     Trainable params\n",
            "0         Non-trainable params\n",
            "5.8 M     Total params\n",
            "23.371    Total estimated model params size (MB)\n",
            "[02/08/2024 06:14:58 PM fastprop.fastprop_core] INFO: Epoch [5/100]\n",
            "[02/08/2024 06:14:58 PM fastprop.fastprop_core] INFO: Epoch [10/100]\n",
            "[02/08/2024 06:14:58 PM fastprop.fastprop_core] INFO: Epoch [15/100]\n",
            "[02/08/2024 06:14:58 PM fastprop.fastprop_core] INFO: Epoch [20/100]\n",
            "[02/08/2024 06:14:58 PM fastprop.fastprop_core] INFO: Elapsed time during training: 0:00:04.340715\n",
            "[02/08/2024 06:14:58 PM fastprop.fastprop_core] INFO: Sampling dataset with random sampler.\n",
            "Actual train/test split differs from requested size. Requested validation size of 0.10, got 0.11. Requested test size of 0.10, got 0.11. \n",
            "[02/08/2024 06:14:58 PM pytorch_lightning.accelerators.cuda] INFO: LOCAL_RANK: 0 - CUDA_VISIBLE_DEVICES: [0]\n",
            "[02/08/2024 06:14:58 PM fastprop.fastprop_core] INFO: Sampling dataset with random sampler.\n",
            "Actual train/test split differs from requested size. Requested validation size of 0.10, got 0.11. Requested test size of 0.10, got 0.11. \n",
            "[02/08/2024 06:14:58 PM pytorch_lightning.accelerators.cuda] INFO: LOCAL_RANK: 0 - CUDA_VISIBLE_DEVICES: [0]\n",
            "[02/08/2024 06:14:58 PM fastprop.fastprop_core] INFO: Displaying validation results for repetition 1:\n",
            "                        value\n",
            "validation_mse_loss  0.005667\n",
            "validation_r2        0.973674\n",
            "validation_mape      0.019301\n",
            "validation_wmape     0.018532\n",
            "validation_l1        0.137731\n",
            "validation_mdae      0.098858\n",
            "validation_rmse      0.161215\n",
            "[02/08/2024 06:14:58 PM fastprop.fastprop_core] INFO: Displaying validation results for repetition 1:\n",
            "                  value\n",
            "test_mse_loss  0.007560\n",
            "test_r2        0.967383\n",
            "test_mape      0.021820\n",
            "test_wmape     0.020520\n",
            "test_l1        0.152637\n",
            "test_mdae      0.156447\n",
            "test_rmse      0.186213\n",
            "[02/08/2024 06:14:59 PM fastprop.fastprop_core] INFO: Training model 2 of 4\n",
            "[02/08/2024 06:14:59 PM pytorch_lightning.utilities.rank_zero] INFO: GPU available: True (cuda), used: True\n",
            "[02/08/2024 06:14:59 PM pytorch_lightning.utilities.rank_zero] INFO: TPU available: False, using: 0 TPU cores\n",
            "[02/08/2024 06:14:59 PM pytorch_lightning.utilities.rank_zero] INFO: IPU available: False, using: 0 IPUs\n",
            "[02/08/2024 06:14:59 PM pytorch_lightning.utilities.rank_zero] INFO: HPU available: False, using: 0 HPUs\n",
            "[02/08/2024 06:14:59 PM fastprop.fastprop_core] INFO: Sampling dataset with random sampler.\n",
            "Actual train/test split differs from requested size. Requested validation size of 0.10, got 0.11. Requested test size of 0.10, got 0.11. \n",
            "Checkpoint directory /content/fastprop/benchmarks/pah/fastprop_1707415963/checkpoints exists and is not empty.\n",
            "[02/08/2024 06:14:59 PM pytorch_lightning.accelerators.cuda] INFO: LOCAL_RANK: 0 - CUDA_VISIBLE_DEVICES: [0]\n",
            "[02/08/2024 06:14:59 PM pytorch_lightning.callbacks.model_summary] INFO: \n",
            "  | Name    | Type       | Params\n",
            "---------------------------------------\n",
            "0 | fnn     | Sequential | 5.8 M \n",
            "1 | readout | Linear     | 1.8 K \n",
            "---------------------------------------\n",
            "5.8 M     Trainable params\n",
            "0         Non-trainable params\n",
            "5.8 M     Total params\n",
            "23.371    Total estimated model params size (MB)\n",
            "[02/08/2024 06:14:59 PM fastprop.fastprop_core] INFO: Epoch [5/100]\n",
            "[02/08/2024 06:15:00 PM fastprop.fastprop_core] INFO: Epoch [10/100]\n",
            "[02/08/2024 06:15:00 PM fastprop.fastprop_core] INFO: Epoch [15/100]\n",
            "[02/08/2024 06:15:00 PM fastprop.fastprop_core] INFO: Epoch [20/100]\n",
            "[02/08/2024 06:15:00 PM fastprop.fastprop_core] INFO: Elapsed time during training: 0:00:01.609038\n",
            "[02/08/2024 06:15:00 PM fastprop.fastprop_core] INFO: Sampling dataset with random sampler.\n",
            "Actual train/test split differs from requested size. Requested validation size of 0.10, got 0.11. Requested test size of 0.10, got 0.11. \n",
            "[02/08/2024 06:15:00 PM pytorch_lightning.accelerators.cuda] INFO: LOCAL_RANK: 0 - CUDA_VISIBLE_DEVICES: [0]\n",
            "[02/08/2024 06:15:00 PM fastprop.fastprop_core] INFO: Sampling dataset with random sampler.\n",
            "Actual train/test split differs from requested size. Requested validation size of 0.10, got 0.11. Requested test size of 0.10, got 0.11. \n",
            "[02/08/2024 06:15:00 PM pytorch_lightning.accelerators.cuda] INFO: LOCAL_RANK: 0 - CUDA_VISIBLE_DEVICES: [0]\n",
            "[02/08/2024 06:15:00 PM fastprop.fastprop_core] INFO: Displaying validation results for repetition 2:\n",
            "                        value\n",
            "validation_mse_loss  0.007016\n",
            "validation_r2        0.962000\n",
            "validation_mape      0.022652\n",
            "validation_wmape     0.022227\n",
            "validation_l1        0.169949\n",
            "validation_mdae      0.140838\n",
            "validation_rmse      0.179385\n",
            "[02/08/2024 06:15:00 PM fastprop.fastprop_core] INFO: Displaying validation results for repetition 2:\n",
            "                  value\n",
            "test_mse_loss  0.019230\n",
            "test_r2        0.983737\n",
            "test_mape      0.046429\n",
            "test_wmape     0.032332\n",
            "test_l1        0.248633\n",
            "test_mdae      0.191107\n",
            "test_rmse      0.296987\n",
            "[02/08/2024 06:15:00 PM fastprop.fastprop_core] INFO: Training model 3 of 4\n",
            "[02/08/2024 06:15:01 PM pytorch_lightning.utilities.rank_zero] INFO: GPU available: True (cuda), used: True\n",
            "[02/08/2024 06:15:01 PM pytorch_lightning.utilities.rank_zero] INFO: TPU available: False, using: 0 TPU cores\n",
            "[02/08/2024 06:15:01 PM pytorch_lightning.utilities.rank_zero] INFO: IPU available: False, using: 0 IPUs\n",
            "[02/08/2024 06:15:01 PM pytorch_lightning.utilities.rank_zero] INFO: HPU available: False, using: 0 HPUs\n",
            "[02/08/2024 06:15:01 PM fastprop.fastprop_core] INFO: Sampling dataset with random sampler.\n",
            "Actual train/test split differs from requested size. Requested validation size of 0.10, got 0.11. Requested test size of 0.10, got 0.11. \n",
            "Checkpoint directory /content/fastprop/benchmarks/pah/fastprop_1707415963/checkpoints exists and is not empty.\n",
            "[02/08/2024 06:15:01 PM pytorch_lightning.accelerators.cuda] INFO: LOCAL_RANK: 0 - CUDA_VISIBLE_DEVICES: [0]\n",
            "[02/08/2024 06:15:01 PM pytorch_lightning.callbacks.model_summary] INFO: \n",
            "  | Name    | Type       | Params\n",
            "---------------------------------------\n",
            "0 | fnn     | Sequential | 5.8 M \n",
            "1 | readout | Linear     | 1.8 K \n",
            "---------------------------------------\n",
            "5.8 M     Trainable params\n",
            "0         Non-trainable params\n",
            "5.8 M     Total params\n",
            "23.371    Total estimated model params size (MB)\n",
            "[02/08/2024 06:15:01 PM fastprop.fastprop_core] INFO: Epoch [5/100]\n",
            "[02/08/2024 06:15:01 PM fastprop.fastprop_core] INFO: Epoch [10/100]\n",
            "[02/08/2024 06:15:04 PM fastprop.fastprop_core] INFO: Epoch [15/100]\n",
            "[02/08/2024 06:15:04 PM fastprop.fastprop_core] INFO: Epoch [20/100]\n",
            "[02/08/2024 06:15:04 PM fastprop.fastprop_core] INFO: Epoch [25/100]\n",
            "[02/08/2024 06:15:04 PM fastprop.fastprop_core] INFO: Elapsed time during training: 0:00:03.391862\n",
            "[02/08/2024 06:15:04 PM fastprop.fastprop_core] INFO: Sampling dataset with random sampler.\n",
            "Actual train/test split differs from requested size. Requested validation size of 0.10, got 0.11. Requested test size of 0.10, got 0.11. \n",
            "[02/08/2024 06:15:04 PM pytorch_lightning.accelerators.cuda] INFO: LOCAL_RANK: 0 - CUDA_VISIBLE_DEVICES: [0]\n",
            "[02/08/2024 06:15:04 PM fastprop.fastprop_core] INFO: Sampling dataset with random sampler.\n",
            "Actual train/test split differs from requested size. Requested validation size of 0.10, got 0.11. Requested test size of 0.10, got 0.11. \n",
            "[02/08/2024 06:15:04 PM pytorch_lightning.accelerators.cuda] INFO: LOCAL_RANK: 0 - CUDA_VISIBLE_DEVICES: [0]\n",
            "[02/08/2024 06:15:04 PM fastprop.fastprop_core] INFO: Displaying validation results for repetition 3:\n",
            "                        value\n",
            "validation_mse_loss  0.012857\n",
            "validation_r2        0.985313\n",
            "validation_mape      0.028447\n",
            "validation_wmape     0.024040\n",
            "validation_l1        0.166356\n",
            "validation_mdae      0.123438\n",
            "validation_rmse      0.242837\n",
            "[02/08/2024 06:15:04 PM fastprop.fastprop_core] INFO: Displaying validation results for repetition 3:\n",
            "                  value\n",
            "test_mse_loss  0.055089\n",
            "test_r2        0.977502\n",
            "test_mape      0.023053\n",
            "test_wmape     0.030364\n",
            "test_l1        0.301158\n",
            "test_mdae      0.129379\n",
            "test_rmse      0.502663\n",
            "[02/08/2024 06:15:04 PM fastprop.fastprop_core] INFO: Training model 4 of 4\n",
            "[02/08/2024 06:15:04 PM pytorch_lightning.utilities.rank_zero] INFO: GPU available: True (cuda), used: True\n",
            "[02/08/2024 06:15:04 PM pytorch_lightning.utilities.rank_zero] INFO: TPU available: False, using: 0 TPU cores\n",
            "[02/08/2024 06:15:04 PM pytorch_lightning.utilities.rank_zero] INFO: IPU available: False, using: 0 IPUs\n",
            "[02/08/2024 06:15:04 PM pytorch_lightning.utilities.rank_zero] INFO: HPU available: False, using: 0 HPUs\n",
            "[02/08/2024 06:15:04 PM fastprop.fastprop_core] INFO: Sampling dataset with random sampler.\n",
            "Actual train/test split differs from requested size. Requested validation size of 0.10, got 0.11. Requested test size of 0.10, got 0.11. \n",
            "Checkpoint directory /content/fastprop/benchmarks/pah/fastprop_1707415963/checkpoints exists and is not empty.\n",
            "[02/08/2024 06:15:04 PM pytorch_lightning.accelerators.cuda] INFO: LOCAL_RANK: 0 - CUDA_VISIBLE_DEVICES: [0]\n",
            "[02/08/2024 06:15:04 PM pytorch_lightning.callbacks.model_summary] INFO: \n",
            "  | Name    | Type       | Params\n",
            "---------------------------------------\n",
            "0 | fnn     | Sequential | 5.8 M \n",
            "1 | readout | Linear     | 1.8 K \n",
            "---------------------------------------\n",
            "5.8 M     Trainable params\n",
            "0         Non-trainable params\n",
            "5.8 M     Total params\n",
            "23.371    Total estimated model params size (MB)\n",
            "[02/08/2024 06:15:05 PM fastprop.fastprop_core] INFO: Epoch [5/100]\n",
            "[02/08/2024 06:15:06 PM fastprop.fastprop_core] INFO: Epoch [10/100]\n",
            "[02/08/2024 06:15:06 PM fastprop.fastprop_core] INFO: Epoch [15/100]\n",
            "[02/08/2024 06:15:07 PM fastprop.fastprop_core] INFO: Epoch [20/100]\n",
            "[02/08/2024 06:15:07 PM fastprop.fastprop_core] INFO: Epoch [25/100]\n",
            "[02/08/2024 06:15:07 PM fastprop.fastprop_core] INFO: Epoch [30/100]\n",
            "[02/08/2024 06:15:07 PM fastprop.fastprop_core] INFO: Elapsed time during training: 0:00:02.603157\n",
            "[02/08/2024 06:15:07 PM fastprop.fastprop_core] INFO: Sampling dataset with random sampler.\n",
            "Actual train/test split differs from requested size. Requested validation size of 0.10, got 0.11. Requested test size of 0.10, got 0.11. \n",
            "[02/08/2024 06:15:07 PM pytorch_lightning.accelerators.cuda] INFO: LOCAL_RANK: 0 - CUDA_VISIBLE_DEVICES: [0]\n",
            "[02/08/2024 06:15:07 PM fastprop.fastprop_core] INFO: Sampling dataset with random sampler.\n",
            "Actual train/test split differs from requested size. Requested validation size of 0.10, got 0.11. Requested test size of 0.10, got 0.11. \n",
            "[02/08/2024 06:15:07 PM pytorch_lightning.accelerators.cuda] INFO: LOCAL_RANK: 0 - CUDA_VISIBLE_DEVICES: [0]\n",
            "[02/08/2024 06:15:07 PM fastprop.fastprop_core] INFO: Displaying validation results for repetition 4:\n",
            "                        value\n",
            "validation_mse_loss  0.008233\n",
            "validation_r2        0.997224\n",
            "validation_mape      0.020658\n",
            "validation_wmape     0.018859\n",
            "validation_l1        0.164559\n",
            "validation_mdae      0.198991\n",
            "validation_rmse      0.194318\n",
            "[02/08/2024 06:15:07 PM fastprop.fastprop_core] INFO: Displaying validation results for repetition 4:\n",
            "                  value\n",
            "test_mse_loss  0.009988\n",
            "test_r2        0.933815\n",
            "test_mape      0.022602\n",
            "test_wmape     0.021500\n",
            "test_l1        0.174293\n",
            "test_mdae      0.135692\n",
            "test_rmse      0.214039\n",
            "[02/08/2024 06:15:07 PM fastprop.fastprop_core] INFO: Displaying validation results:\n",
            "                     count      mean       std       min       25%       50%       75%       max\n",
            "validation_mse_loss    4.0  0.008443  0.003124  0.005667  0.006679  0.007624  0.009389  0.012857\n",
            "validation_r2          4.0  0.979553  0.015145  0.962000  0.970756  0.979493  0.988290  0.997224\n",
            "validation_mape        4.0  0.022765  0.004030  0.019301  0.020319  0.021655  0.024101  0.028447\n",
            "validation_wmape       4.0  0.020914  0.002670  0.018532  0.018777  0.020543  0.022680  0.024040\n",
            "validation_l1          4.0  0.159649  0.014783  0.137731  0.157852  0.165458  0.167254  0.169949\n",
            "validation_mdae        4.0  0.140531  0.042609  0.098858  0.117293  0.132138  0.155376  0.198991\n",
            "validation_rmse        4.0  0.194439  0.034990  0.161215  0.174843  0.186852  0.206448  0.242837\n",
            "[02/08/2024 06:15:07 PM fastprop.fastprop_core] INFO: Displaying testing results:\n",
            "               count      mean       std       min       25%       50%       75%       max\n",
            "test_mse_loss    4.0  0.022967  0.021997  0.007560  0.009381  0.014609  0.028195  0.055089\n",
            "test_r2          4.0  0.965609  0.022242  0.933815  0.958991  0.972443  0.979061  0.983737\n",
            "test_mape        4.0  0.028476  0.011980  0.021820  0.022406  0.022828  0.028897  0.046429\n",
            "test_wmape       4.0  0.026179  0.006036  0.020520  0.021255  0.025932  0.030856  0.032332\n",
            "test_l1          4.0  0.219180  0.068388  0.152637  0.168879  0.211463  0.261764  0.301158\n",
            "test_mdae        4.0  0.153156  0.027817  0.129379  0.134114  0.146069  0.165112  0.191107\n",
            "test_rmse        4.0  0.299975  0.143083  0.186213  0.207083  0.255513  0.348406  0.502663\n",
            "[02/08/2024 06:15:07 PM fastprop.fastprop_core] INFO: 2-sided T-test between validation and testing rmse yielded p value of p=0.202>0.05.\n",
            "[02/08/2024 06:15:07 PM fastprop.cli.fastprop_cli] INFO: If you use fastprop in published work, please cite: ...WIP...\n"
          ]
        }
      ],
      "source": [
        "!fastprop train pah/pah.yml"
      ]
    },
    {
      "cell_type": "markdown",
      "metadata": {
        "id": "1wsNPT8XjR17"
      },
      "source": [
        "### Output from `fastprop train`\n",
        "Let's look at the `pah` directory to see what file we ended up with:"
      ]
    },
    {
      "cell_type": "code",
      "execution_count": 18,
      "metadata": {
        "colab": {
          "base_uri": "https://localhost:8080/"
        },
        "id": "zjJbks6-g7ZV",
        "outputId": "0123092c-eaf8-478b-f8cf-62d35c98aba7"
      },
      "outputs": [
        {
          "output_type": "stream",
          "name": "stdout",
          "text": [
            "\u001b[01;34mpah\u001b[0m\n",
            "├── \u001b[00marockiaraj_pah_data.csv\u001b[0m\n",
            "├── \u001b[00mcached_arockiaraj_pah_data_all_1707415931.csv\u001b[0m\n",
            "├── \u001b[00mchemprop_pah.sh\u001b[0m\n",
            "├── \u001b[01;34mfastprop_1707415963\u001b[0m\n",
            "│   ├── \u001b[01;34mcheckpoints\u001b[0m\n",
            "│   │   ├── \u001b[00mfastprop_config.yml\u001b[0m\n",
            "│   │   ├── \u001b[00mrepetition-1-epoch=04-val_loss=0.00.ckpt\u001b[0m\n",
            "│   │   ├── \u001b[00mrepetition-2-epoch=05-val_loss=0.00.ckpt\u001b[0m\n",
            "│   │   ├── \u001b[00mrepetition-3-epoch=12-val_loss=0.00.ckpt\u001b[0m\n",
            "│   │   └── \u001b[00mrepetition-4-epoch=14-val_loss=0.00.ckpt\u001b[0m\n",
            "│   ├── \u001b[01;34mcsv_logs\u001b[0m\n",
            "│   │   ├── \u001b[01;34mrepetition_1\u001b[0m\n",
            "│   │   │   ├── \u001b[00mhparams.yaml\u001b[0m\n",
            "│   │   │   └── \u001b[00mmetrics.csv\u001b[0m\n",
            "│   │   ├── \u001b[01;34mrepetition_2\u001b[0m\n",
            "│   │   │   ├── \u001b[00mhparams.yaml\u001b[0m\n",
            "│   │   │   └── \u001b[00mmetrics.csv\u001b[0m\n",
            "│   │   ├── \u001b[01;34mrepetition_3\u001b[0m\n",
            "│   │   │   ├── \u001b[00mhparams.yaml\u001b[0m\n",
            "│   │   │   └── \u001b[00mmetrics.csv\u001b[0m\n",
            "│   │   └── \u001b[01;34mrepetition_4\u001b[0m\n",
            "│   │       ├── \u001b[00mhparams.yaml\u001b[0m\n",
            "│   │       └── \u001b[00mmetrics.csv\u001b[0m\n",
            "│   ├── \u001b[00mfastprop_log.txt\u001b[0m\n",
            "│   └── \u001b[01;34mtensorboard_logs\u001b[0m\n",
            "│       ├── \u001b[01;34mrepetition_1\u001b[0m\n",
            "│       │   ├── \u001b[00mevents.out.tfevents.1707416096.67acd398d733.13637.0\u001b[0m\n",
            "│       │   ├── \u001b[00mevents.out.tfevents.1707416098.67acd398d733.13637.1\u001b[0m\n",
            "│       │   ├── \u001b[00mevents.out.tfevents.1707416098.67acd398d733.13637.2\u001b[0m\n",
            "│       │   └── \u001b[00mhparams.yaml\u001b[0m\n",
            "│       ├── \u001b[01;34mrepetition_2\u001b[0m\n",
            "│       │   ├── \u001b[00mevents.out.tfevents.1707416099.67acd398d733.13637.3\u001b[0m\n",
            "│       │   ├── \u001b[00mevents.out.tfevents.1707416100.67acd398d733.13637.4\u001b[0m\n",
            "│       │   ├── \u001b[00mevents.out.tfevents.1707416100.67acd398d733.13637.5\u001b[0m\n",
            "│       │   └── \u001b[00mhparams.yaml\u001b[0m\n",
            "│       ├── \u001b[01;34mrepetition_3\u001b[0m\n",
            "│       │   ├── \u001b[00mevents.out.tfevents.1707416101.67acd398d733.13637.6\u001b[0m\n",
            "│       │   ├── \u001b[00mevents.out.tfevents.1707416104.67acd398d733.13637.7\u001b[0m\n",
            "│       │   ├── \u001b[00mevents.out.tfevents.1707416104.67acd398d733.13637.8\u001b[0m\n",
            "│       │   └── \u001b[00mhparams.yaml\u001b[0m\n",
            "│       └── \u001b[01;34mrepetition_4\u001b[0m\n",
            "│           ├── \u001b[00mevents.out.tfevents.1707416104.67acd398d733.13637.9\u001b[0m\n",
            "│           ├── \u001b[00mevents.out.tfevents.1707416107.67acd398d733.13637.10\u001b[0m\n",
            "│           ├── \u001b[00mevents.out.tfevents.1707416107.67acd398d733.13637.11\u001b[0m\n",
            "│           └── \u001b[00mhparams.yaml\u001b[0m\n",
            "└── \u001b[00mpah.yml\u001b[0m\n",
            "\n",
            "12 directories, 34 files\n"
          ]
        }
      ],
      "source": [
        "!tree pah"
      ]
    },
    {
      "cell_type": "markdown",
      "metadata": {
        "id": "82dM2XGZmu82"
      },
      "source": [
        "First we have `cached_arockiaraj_data...csv` - after calculating the descriptors, `fastprop` caches them to a file.\n",
        "This means that on subsequent runs (if `enable_cache: True`, which it is by default) `fastprop` can reload them rather than spending the time calculating them again.\n",
        "\n",
        "All of the outpur from `fastprop` was also saved to a log file called `fastprop_log.txt` for future reference.\n",
        "\n",
        "`fastprop` created an output directory inside `pah` called `fastprop_timestamp`, and within that placed directories for:\n",
        " - `checkpoints` used for prediction and feature importance analysis\n",
        " - `csv_logs` which contain all of the metrics for training, test, and validation through training in CSV format for easy analysis\n",
        " - `tensorboard_logs` which has the files `tensorboard` uses to show model performance during training.\n",
        "\n",
        "For more information about `fastprop train`, see the `--help`:"
      ]
    },
    {
      "cell_type": "code",
      "execution_count": 19,
      "metadata": {
        "colab": {
          "base_uri": "https://localhost:8080/"
        },
        "id": "bVwwAvcWmsGH",
        "outputId": "3005655f-fddb-4c49-d8c4-17482d8b308f"
      },
      "outputs": [
        {
          "output_type": "stream",
          "name": "stdout",
          "text": [
            "[02/08/2024 06:15:10 PM numexpr.utils] INFO: NumExpr defaulting to 2 threads.\n",
            "usage: fastprop train [-h] [-od OUTPUT_DIRECTORY] [-if INPUT_FILE]\n",
            "                      [-tc TARGET_COLUMNS [TARGET_COLUMNS ...]] [-sc SMILES_COLUMN]\n",
            "                      [-d DESCRIPTORS] [-ec ENABLE_CACHE] [-p PRECOMPUTED] [-r RESCALING]\n",
            "                      [-zvd ZERO_VARIANCE_DROP] [-cd COLINEAR_DROP] [-op] [-fl FNN_LAYERS]\n",
            "                      [-lr LEARNING_RATE] [-bs BATCH_SIZE] [-ne NUMBER_EPOCHS]\n",
            "                      [-nr NUMBER_REPEATS] [-pt PROBLEM_TYPE] [-ns TRAIN_SIZE] [-vs VAL_SIZE]\n",
            "                      [-ts TEST_SIZE] [-s SAMPLER] [-rs RANDOM_SEED] [-pc PATIENCE]\n",
            "                      [config_file]\n",
            "\n",
            "positional arguments:\n",
            "  config_file           YAML configuration file\n",
            "\n",
            "options:\n",
            "  -h, --help            show this help message and exit\n",
            "  -od OUTPUT_DIRECTORY, --output-directory OUTPUT_DIRECTORY\n",
            "                        directory for fastprop output\n",
            "  -if INPUT_FILE, --input-file INPUT_FILE\n",
            "                        csv of SMILES and targets\n",
            "  -tc TARGET_COLUMNS [TARGET_COLUMNS ...], --target-columns TARGET_COLUMNS [TARGET_COLUMNS ...]\n",
            "                        column name(s) for target(s)\n",
            "  -sc SMILES_COLUMN, --smiles-column SMILES_COLUMN\n",
            "                        column name for SMILES\n",
            "  -d DESCRIPTORS, --descriptors DESCRIPTORS\n",
            "                        descriptors to calculate (one of all, optimized, smallest, or search)\n",
            "  -ec ENABLE_CACHE, --enable-cache ENABLE_CACHE\n",
            "                        allow saving and loading of cached descriptors\n",
            "  -p PRECOMPUTED, --precomputed PRECOMPUTED\n",
            "                        precomputed descriptors from fastprop or mordred\n",
            "  -r RESCALING, --rescaling RESCALING\n",
            "                        rescale descriptors between 0 and 1 (default to True)\n",
            "  -zvd ZERO_VARIANCE_DROP, --zero-variance-drop ZERO_VARIANCE_DROP\n",
            "                        drop zero variance descriptors (defaults to True)\n",
            "  -cd COLINEAR_DROP, --colinear-drop COLINEAR_DROP\n",
            "                        drop colinear descriptors (defaults to False)\n",
            "  -op, --optimize       run hyperparameter optimization\n",
            "  -fl FNN_LAYERS, --fnn-layers FNN_LAYERS\n",
            "                        number of fnn layers\n",
            "  -lr LEARNING_RATE, --learning-rate LEARNING_RATE\n",
            "                        learning rate\n",
            "  -bs BATCH_SIZE, --batch-size BATCH_SIZE\n",
            "                        batch size\n",
            "  -ne NUMBER_EPOCHS, --number-epochs NUMBER_EPOCHS\n",
            "                        number of epochs\n",
            "  -nr NUMBER_REPEATS, --number-repeats NUMBER_REPEATS\n",
            "                        number of repeats\n",
            "  -pt PROBLEM_TYPE, --problem-type PROBLEM_TYPE\n",
            "                        problem type (regression or a type of classification)\n",
            "  -ns TRAIN_SIZE, --train-size TRAIN_SIZE\n",
            "                        train size\n",
            "  -vs VAL_SIZE, --val-size VAL_SIZE\n",
            "                        val size\n",
            "  -ts TEST_SIZE, --test-size TEST_SIZE\n",
            "                        test size\n",
            "  -s SAMPLER, --sampler SAMPLER\n",
            "                        choice of sampler, i.e. random, kmeans, etc.\n",
            "  -rs RANDOM_SEED, --random-seed RANDOM_SEED\n",
            "                        random seed for sampling and pytorch seed\n",
            "  -pc PATIENCE, --patience PATIENCE\n",
            "                        number of epochs to wait before early stopping\n"
          ]
        }
      ],
      "source": [
        "!fastprop train --help"
      ]
    },
    {
      "cell_type": "markdown",
      "metadata": {
        "id": "tymP6qeemU1_"
      },
      "source": [
        "### Predicting with Your Model\n",
        "After training is completed, you can run `fastprop predict` to make predictions."
      ]
    },
    {
      "cell_type": "code",
      "execution_count": 20,
      "metadata": {
        "id": "J_WsdsDGmf8j",
        "colab": {
          "base_uri": "https://localhost:8080/"
        },
        "outputId": "62086417-0fa3-4500-ebbd-196553957d80"
      },
      "outputs": [
        {
          "output_type": "stream",
          "name": "stdout",
          "text": [
            "[02/08/2024 06:15:19 PM numexpr.utils] INFO: NumExpr defaulting to 2 threads.\n",
            "usage: fastprop predict [-h] [-s SMILES [SMILES ...] | -i INPUT_FILE] [-o OUTPUT] checkpoints_dir\n",
            "\n",
            "positional arguments:\n",
            "  checkpoints_dir       directory of checkpoint file(s) for predictions\n",
            "\n",
            "options:\n",
            "  -h, --help            show this help message and exit\n",
            "  -s SMILES [SMILES ...], --smiles SMILES [SMILES ...]\n",
            "                        SMILES string for prediction\n",
            "  -i INPUT_FILE, --input-file INPUT_FILE\n",
            "                        file containing SMILES strings\n",
            "  -o OUTPUT, --output OUTPUT\n",
            "                        output file for predictions (defaults to stdout)\n"
          ]
        }
      ],
      "source": [
        "!fastprop predict --help"
      ]
    },
    {
      "cell_type": "markdown",
      "metadata": {
        "id": "PspNd5g4m1cN"
      },
      "source": [
        "Now to make predictions using the model we just trained, we use this command which will load all of trained models are run inference on the SMILES string we pass in (napthalene):\n",
        "\n",
        "_Note: If you run this notebook live, you will need to change the string of numbers after `fastprop_` to match your local run! Google colab should help you with an autofill suggestion._"
      ]
    },
    {
      "cell_type": "code",
      "execution_count": 21,
      "metadata": {
        "id": "WALs2qaAm4Fi",
        "colab": {
          "base_uri": "https://localhost:8080/"
        },
        "outputId": "9c3c21b4-3c6e-405a-9e73-616e2e277d27"
      },
      "outputs": [
        {
          "output_type": "stream",
          "name": "stdout",
          "text": [
            "[02/08/2024 06:15:28 PM numexpr.utils] INFO: NumExpr defaulting to 2 threads.\n",
            "[02/08/2024 06:15:35 PM fastprop.cli.fastprop_cli] INFO: Predict Parameters:\n",
            " checkpoints_dir: pah/fastprop_1707415963/checkpoints\n",
            "smiles:\n",
            "- c1c2ccccc2ccc1\n",
            "input_file: null\n",
            "output: null\n",
            "\n",
            "[02/08/2024 06:15:36 PM fastprop.utils.calculate_descriptors] INFO: Calculating descriptors using strategy='low-memory'\n",
            "100% 1/1 [00:00<00:00,  6.86it/s]\n",
            "\n",
            "                   log_p  log_p_stdev\n",
            "c1c2ccccc2ccc1  2.77289     0.651922\n",
            "[02/08/2024 06:15:37 PM fastprop.cli.fastprop_cli] INFO: If you use fastprop in published work, please cite: ...WIP...\n"
          ]
        }
      ],
      "source": [
        "!fastprop predict pah/fastprop_1707415963/checkpoints --smiles c1c2ccccc2ccc1"
      ]
    },
    {
      "cell_type": "markdown",
      "metadata": {
        "id": "V7jv-B2Pmmi8"
      },
      "source": [
        "### Feature Importance with SHAP\n",
        "`fastprop` can also calculate the importance of the various molecular descriptors using SHAP."
      ]
    },
    {
      "cell_type": "code",
      "source": [
        "!fastprop shap --help"
      ],
      "metadata": {
        "colab": {
          "base_uri": "https://localhost:8080/"
        },
        "id": "roET_L4P87ck",
        "outputId": "97d3877f-6462-46e6-c9d1-7ba5a14878a0"
      },
      "execution_count": 23,
      "outputs": [
        {
          "output_type": "stream",
          "name": "stdout",
          "text": [
            "[02/08/2024 06:21:45 PM numexpr.utils] INFO: NumExpr defaulting to 2 threads.\n",
            "usage: fastprop shap [-h] [-it IMPORTANCE_THRESHOLD] checkpoints_dir input_file\n",
            "\n",
            "positional arguments:\n",
            "  checkpoints_dir       directory of checkpoint file(s) for SHAP analysis\n",
            "  input_file            csv of SMILES and targets used during training\n",
            "\n",
            "options:\n",
            "  -h, --help            show this help message and exit\n",
            "  -it IMPORTANCE_THRESHOLD, --importance-threshold IMPORTANCE_THRESHOLD\n",
            "                        [0-1] hide features below (most important feature) x this\n"
          ]
        }
      ]
    },
    {
      "cell_type": "markdown",
      "source": [
        "Since we have a huge number of input features, the `--importance-threshold` can be used to cut down on the number that are shown in the output plot.\n",
        "This scalar value between 0 and 1 dicates how important a feature must be to be shown - for example, if you set it to 0.90 you are asking to include features that are at least 90% as important as the most important feature.\n",
        "\n",
        "Let's try it on this dataset:"
      ],
      "metadata": {
        "id": "pk0EZnpo9GL2"
      }
    },
    {
      "cell_type": "code",
      "source": [
        "!fastprop shap pah/fastprop_1707415963/checkpoints pah/arockiaraj_pah_data.csv -it 0.90"
      ],
      "metadata": {
        "colab": {
          "base_uri": "https://localhost:8080/"
        },
        "id": "5B3XrFXZ9Fvm",
        "outputId": "703d6182-6de9-4bb4-ecbe-66503a410be4"
      },
      "execution_count": 29,
      "outputs": [
        {
          "output_type": "stream",
          "name": "stdout",
          "text": [
            "[02/08/2024 06:29:19 PM numexpr.utils] INFO: NumExpr defaulting to 2 threads.\n",
            "[02/08/2024 06:29:26 PM fastprop.utils.load_data] INFO: Generating RDKit molecules from SMILES.\n",
            "[02/08/2024 06:29:26 PM fastprop.utils.calculate_descriptors] INFO: Calculating descriptors using strategy='low-memory'\n",
            "100% 55/55 [01:53<00:00,  2.07s/it]\n",
            "Calculating SHAP values for each model: 100% 4/4 [00:00<00:00,  7.86it/s]\n",
            "[02/08/2024 06:31:22 PM fastprop.shap] WARNING: Output file exists! fastprop.shap will overwrite 'log_p_feature_importance_beeswarm.png'.\n",
            "[02/08/2024 06:31:22 PM fastprop.shap] INFO: Visit the mordred-community docs to lookup descriptors: https://jacksonburns.github.io/mordred-community/descriptors.html\n",
            "[02/08/2024 06:31:22 PM fastprop.cli.fastprop_cli] INFO: If you use fastprop in published work, please cite: ...WIP...\n"
          ]
        }
      ]
    },
    {
      "cell_type": "code",
      "source": [
        "from IPython.display import Image\n",
        "Image('log_p_feature_importance_beeswarm.png')"
      ],
      "metadata": {
        "colab": {
          "base_uri": "https://localhost:8080/",
          "height": 403
        },
        "id": "Ny89BTOu98VX",
        "outputId": "b1c30daa-39c9-40ba-e762-7f0c268cfcad"
      },
      "execution_count": 30,
      "outputs": [
        {
          "output_type": "execute_result",
          "data": {
            "image/png": "[encoded data removed]",
            "text/plain": [
              "<IPython.core.display.Image object>"
            ]
          },
          "metadata": {},
          "execution_count": 30
        }
      ]
    },
    {
      "cell_type": "markdown",
      "source": [
        "For small datasets like this one (55 points total) it can be difficult to parse a lot out of the SHAP analysis.\n",
        "Coarsely, we can see that AATS-derived descriptors are the most important, and that they generally have a positive effect on the predicted partition coefficient.\n",
        "For more information on which each of these descriptors means, check the documentation link printed in the log output.\n",
        "\n",
        "This concludes the tutorial for `fastprop`.\n",
        "Note that you can also use `fastprop` as a Python module - see [the `benchmark` example for QuantumScents](https://github.com/JacksonBurns/fastprop/blob/main/benchmarks/quantumscents/quantumscents.py) on the GitHub page for more information."
      ],
      "metadata": {
        "id": "mPqU2Oa4_aGm"
      }
    }
  ],
  "metadata": {
    "accelerator": "GPU",
    "colab": {
      "provenance": []
    },
    "kernelspec": {
      "display_name": "Python 3",
      "name": "python3"
    },
    "language_info": {
      "name": "python"
    }
  },
  "nbformat": 4,
  "nbformat_minor": 0
}