{
 "cells": [
  {
   "cell_type": "markdown",
   "metadata": {},
   "source": [
    "# `fastprop` Classification with `polaris` Demo\n",
    "This notebook demonstrates training `fastprop` on a binary classification dataset using the `polaris` benchmarking library.\n",
    "\n",
    "Requires:\n",
    " - fastprop\n",
    " - polaris-lib"
   ]
  },
  {
   "cell_type": "markdown",
   "metadata": {},
   "source": [
    "## Retrieiving the Data\n",
    "\n",
    "After running `polaris login` on the command line, we can use this code to access the dataset (follow [this link](https://polarishub.io/benchmarks/polaris/pkis2-egfr-wt-c-1) to learn more about this task):"
   ]
  },
  {
   "cell_type": "code",
   "execution_count": 1,
   "metadata": {},
   "outputs": [],
   "source": [
    "%%capture\n",
    "import polaris as po\n",
    "\n",
    "benchmark = po.load_benchmark(\"polaris/pkis2-egfr-wt-c-1\")\n",
    "train, test = benchmark.get_train_test_split()"
   ]
  },
  {
   "cell_type": "code",
   "execution_count": 2,
   "metadata": {},
   "outputs": [],
   "source": [
    "train_df, test_df = train.as_dataframe(), test.as_dataframe()"
   ]
  },
  {
   "cell_type": "markdown",
   "metadata": {},
   "source": [
    "`polaris` returns rows in a non-deterministic order.\n",
    "For reproducibility with this notebook, we will first sort to ensure that dataframe ia always in the same order."
   ]
  },
  {
   "cell_type": "code",
   "execution_count": 3,
   "metadata": {},
   "outputs": [
    {
     "data": {
      "text/html": [
       "<div>\n",
       "<style scoped>\n",
       "    .dataframe tbody tr th:only-of-type {\n",
       "        vertical-align: middle;\n",
       "    }\n",
       "\n",
       "    .dataframe tbody tr th {\n",
       "        vertical-align: top;\n",
       "    }\n",
       "\n",
       "    .dataframe thead th {\n",
       "        text-align: right;\n",
       "    }\n",
       "</style>\n",
       "<table border=\"1\" class=\"dataframe\">\n",
       "  <thead>\n",
       "    <tr style=\"text-align: right;\">\n",
       "      <th></th>\n",
       "      <th>smiles</th>\n",
       "      <th>CLASS_EGFR</th>\n",
       "    </tr>\n",
       "  </thead>\n",
       "  <tbody>\n",
       "    <tr>\n",
       "      <th>72</th>\n",
       "      <td>C=CC(=O)Nc1cc2c(Nc3ccc(F)c(Cl)c3)ncnc2cc1OCCCN...</td>\n",
       "      <td>1.0</td>\n",
       "    </tr>\n",
       "    <tr>\n",
       "      <th>171</th>\n",
       "      <td>CC(=O)N1CCN(c2ccc(Nc3nccc(-c4sc(C(C)C)nc4-c4cc...</td>\n",
       "      <td>1.0</td>\n",
       "    </tr>\n",
       "    <tr>\n",
       "      <th>265</th>\n",
       "      <td>CC(=O)Nc1ccc(-c2cc3ncnc(SCC(=O)O)c3s2)cc1</td>\n",
       "      <td>0.0</td>\n",
       "    </tr>\n",
       "    <tr>\n",
       "      <th>251</th>\n",
       "      <td>CC(=O)Nc1ccc(COc2ccc(Nc3ccnc4cc(-c5ccccn5)ccc3...</td>\n",
       "      <td>0.0</td>\n",
       "    </tr>\n",
       "    <tr>\n",
       "      <th>131</th>\n",
       "      <td>CC(=O)Nc1cn2nc(Oc3cccc(NC(=O)c4cccc(C(F)(F)F)c...</td>\n",
       "      <td>0.0</td>\n",
       "    </tr>\n",
       "    <tr>\n",
       "      <th>67</th>\n",
       "      <td>CC(=O)Nc1n[nH]c2ncc(-c3ccccc3)cc12</td>\n",
       "      <td>0.0</td>\n",
       "    </tr>\n",
       "  </tbody>\n",
       "</table>\n",
       "</div>"
      ],
      "text/plain": [
       "                                                smiles  CLASS_EGFR\n",
       "72   C=CC(=O)Nc1cc2c(Nc3ccc(F)c(Cl)c3)ncnc2cc1OCCCN...         1.0\n",
       "171  CC(=O)N1CCN(c2ccc(Nc3nccc(-c4sc(C(C)C)nc4-c4cc...         1.0\n",
       "265          CC(=O)Nc1ccc(-c2cc3ncnc(SCC(=O)O)c3s2)cc1         0.0\n",
       "251  CC(=O)Nc1ccc(COc2ccc(Nc3ccnc4cc(-c5ccccn5)ccc3...         0.0\n",
       "131  CC(=O)Nc1cn2nc(Oc3cccc(NC(=O)c4cccc(C(F)(F)F)c...         0.0\n",
       "67                  CC(=O)Nc1n[nH]c2ncc(-c3ccccc3)cc12         0.0"
      ]
     },
     "execution_count": 3,
     "metadata": {},
     "output_type": "execute_result"
    }
   ],
   "source": [
    "train_df = train_df.sort_values(\"smiles\")\n",
    "train_df.head(6)"
   ]
  },
  {
   "cell_type": "markdown",
   "metadata": {},
   "source": [
    "We will use 20% of this data for early stopping, which we can select like this:"
   ]
  },
  {
   "cell_type": "code",
   "execution_count": 4,
   "metadata": {},
   "outputs": [],
   "source": [
    "val_df = train_df.sample(frac=0.2, random_state=42)\n",
    "train_df = train_df.drop(val_df.index)"
   ]
  },
  {
   "cell_type": "markdown",
   "metadata": {},
   "source": [
    "## Calculating Molecular Descriptors\n",
    "Now, we need to calculate the molecular descriptors for each of these species.\n",
    "We will save these to a cache file so that subsequent runs are faster!\n",
    "\n",
    "`fastprop` uses [`mordredcommunity`](https://github.com/JacksonBurns/mordred-community) to calculate molecular descriptors - if there is a different set of descriptors you want to use (e.g. padel, osmordred, etc.) you could easily replace this code with that calculator!"
   ]
  },
  {
   "cell_type": "code",
   "execution_count": 5,
   "metadata": {},
   "outputs": [],
   "source": [
    "import os\n",
    "import numpy as np\n",
    "from rdkit.Chem import MolFromSmiles\n",
    "from fastprop.descriptors import get_descriptors\n",
    "from fastprop.defaults import ALL_2D\n",
    "from fastprop.io import load_saved_descriptors\n",
    "\n",
    "for name, df in ((\"train\", train_df), (\"val\", val_df), (\"test\", test_df)):\n",
    "    cache_file = f\"cached_{name}_descriptors.csv\"\n",
    "    if not os.path.exists(cache_file):\n",
    "        descriptors = get_descriptors(\n",
    "            cache_file,\n",
    "            ALL_2D,\n",
    "            list(map(MolFromSmiles, df[\"smiles\"])),\n",
    "        ).to_numpy(dtype=np.float32)\n",
    "train_descriptors = load_saved_descriptors(\"cached_train_descriptors.csv\")\n",
    "val_descriptors = load_saved_descriptors(\"cached_val_descriptors.csv\")\n",
    "test_descriptors = load_saved_descriptors(\"cached_test_descriptors.csv\")"
   ]
  },
  {
   "cell_type": "markdown",
   "metadata": {},
   "source": [
    "## Training\n",
    "\n",
    "Now that we have descriptors, we can set up the code for training.\n",
    "\n",
    "Molecular descriptors are prone to outliers, infinite, and invalid values so `fastprop` includes utilities to automatically impute, rescale, and Winsorize descriptors."
   ]
  },
  {
   "cell_type": "markdown",
   "metadata": {},
   "source": [
    "First, we cast everything to `torch.Tensor`:"
   ]
  },
  {
   "cell_type": "code",
   "execution_count": 6,
   "metadata": {},
   "outputs": [],
   "source": [
    "import torch\n",
    "\n",
    "train_descriptors = torch.tensor(train_descriptors, dtype=torch.float32)\n",
    "val_descriptors = torch.tensor(val_descriptors, dtype=torch.float32)\n",
    "test_descriptors = torch.tensor(test_descriptors, dtype=torch.float32)\n",
    "train_targets = torch.tensor(train_df[\"CLASS_EGFR\"].to_numpy(), dtype=torch.float32)[:, None]  # 2d!\n",
    "val_targets = torch.tensor(val_df[\"CLASS_EGFR\"].to_numpy(), dtype=torch.float32)[:, None]"
   ]
  },
  {
   "cell_type": "markdown",
   "metadata": {},
   "source": [
    "Next, we rescale the features (and impute missing/invalid ones) and then prepare the dataloaders and model itself:"
   ]
  },
  {
   "cell_type": "code",
   "execution_count": 7,
   "metadata": {},
   "outputs": [],
   "source": [
    "from fastprop.model import fastprop\n",
    "from fastprop.data import fastpropDataLoader, standard_scale\n",
    "from torch.utils.data import TensorDataset\n",
    "\n",
    "\n",
    "train_descriptors, feature_means, feature_vars = standard_scale(train_descriptors)\n",
    "val_descriptors = standard_scale(val_descriptors, feature_means, feature_vars)\n",
    "# don't rescale the test_descriptors - fastprop will do this automatically during inference\n",
    "\n",
    "train_dataloader = fastpropDataLoader(TensorDataset(train_descriptors, train_targets), shuffle=True, batch_size=16)\n",
    "val_dataloader = fastpropDataLoader(TensorDataset(val_descriptors, val_targets), batch_size=1024)\n",
    "test_dataloader = fastpropDataLoader(TensorDataset(test_descriptors), batch_size=1024)\n",
    "\n",
    "model = fastprop(\n",
    "    problem_type=\"binary\",\n",
    "    target_names=list(benchmark.target_cols),\n",
    "    clamp_input=True,  # winsorization\n",
    "    fnn_layers=2,\n",
    "    hidden_size=1_800,\n",
    "    feature_means=feature_means,\n",
    "    feature_vars=feature_vars,\n",
    "    learning_rate=0.00001,\n",
    ")"
   ]
  },
  {
   "cell_type": "markdown",
   "metadata": {},
   "source": [
    "The last blocks here are classical pytorch lightning training and inference:"
   ]
  },
  {
   "cell_type": "code",
   "execution_count": 8,
   "metadata": {},
   "outputs": [],
   "source": [
    "from pathlib import Path\n",
    "\n",
    "outdir = Path(\"demo_output\")"
   ]
  },
  {
   "cell_type": "code",
   "execution_count": 9,
   "metadata": {},
   "outputs": [
    {
     "name": "stderr",
     "output_type": "stream",
     "text": [
      "Trainer will use only 1 of 8 GPUs because it is running inside an interactive / notebook environment. You may try to set `Trainer(devices=8)` but please note that multi-GPU inside interactive / notebook environments is considered experimental and unstable. Your mileage may vary.\n",
      "/home/jwburns/.conda/envs/fastprop_dev/lib/python3.11/site-packages/lightning_fabric/plugins/environments/slurm.py:204: The `srun` command is available on your system but is not used. HINT: If your intention is to run Lightning on SLURM, prepend your python command with `srun` like so: srun python /home/jwburns/.conda/envs/fastprop_dev/lib/python3.1 ...\n",
      "GPU available: True (cuda), used: True\n",
      "TPU available: False, using: 0 TPU cores\n",
      "HPU available: False, using: 0 HPUs\n",
      "/home/jwburns/.conda/envs/fastprop_dev/lib/python3.11/site-packages/pytorch_lightning/callbacks/model_checkpoint.py:654: Checkpoint directory /home/jwburns/fastprop/examples/demo_output/checkpoints exists and is not empty.\n",
      "LOCAL_RANK: 0 - CUDA_VISIBLE_DEVICES: [0,1,2,3,4,5,6,7]\n",
      "\n",
      "  | Name    | Type       | Params | Mode \n",
      "-----------------------------------------------\n",
      "0 | fnn     | Sequential | 6.1 M  | train\n",
      "1 | readout | Linear     | 1.8 K  | train\n",
      "-----------------------------------------------\n",
      "6.1 M     Trainable params\n",
      "0         Non-trainable params\n",
      "6.1 M     Total params\n",
      "24.595    Total estimated model params size (MB)\n",
      "6         Modules in train mode\n",
      "0         Modules in eval mode\n"
     ]
    },
    {
     "name": "stdout",
     "output_type": "stream",
     "text": [
      "Epoch 31: 100%|██████████| 25/25 [00:00<00:00, 134.13it/s, v_num=9]        \n",
      "Reloading best model from checkpoint file: /home/jwburns/fastprop/examples/demo_output/checkpoints/epoch=26-step=675.ckpt\n"
     ]
    }
   ],
   "source": [
    "from pytorch_lightning import Trainer\n",
    "from pytorch_lightning.loggers import TensorBoardLogger\n",
    "from pytorch_lightning.callbacks import EarlyStopping, ModelCheckpoint\n",
    "\n",
    "\n",
    "tensorboard_logger = TensorBoardLogger(\n",
    "    outdir,\n",
    "    name=\"tensorboard_logs\",\n",
    "    default_hp_metric=False,\n",
    ")\n",
    "callbacks = [\n",
    "    EarlyStopping(\n",
    "        monitor=\"validation_binary_auroc\",\n",
    "        mode=\"max\",\n",
    "        verbose=False,\n",
    "        patience=5,\n",
    "    ),\n",
    "    ModelCheckpoint(\n",
    "        monitor=\"validation_binary_auroc\",\n",
    "        save_top_k=1,\n",
    "        mode=\"max\",\n",
    "        dirpath=outdir / \"checkpoints\",\n",
    "    ),\n",
    "]\n",
    "trainer = Trainer(\n",
    "    max_epochs=50,\n",
    "    logger=tensorboard_logger,\n",
    "    log_every_n_steps=1,\n",
    "    enable_checkpointing=True,\n",
    "    check_val_every_n_epoch=1,\n",
    "    callbacks=callbacks,\n",
    ")\n",
    "trainer.fit(model, train_dataloader, val_dataloader)\n",
    "ckpt_path = trainer.checkpoint_callback.best_model_path\n",
    "print(f\"Reloading best model from checkpoint file: {ckpt_path}\")\n",
    "model = model.__class__.load_from_checkpoint(ckpt_path)"
   ]
  },
  {
   "cell_type": "code",
   "execution_count": 10,
   "metadata": {},
   "outputs": [
    {
     "name": "stderr",
     "output_type": "stream",
     "text": [
      "LOCAL_RANK: 0 - CUDA_VISIBLE_DEVICES: [0,1,2,3,4,5,6,7]\n"
     ]
    },
    {
     "name": "stdout",
     "output_type": "stream",
     "text": [
      "Predicting DataLoader 0: 100%|██████████| 1/1 [00:00<00:00, 20.67it/s]\n"
     ]
    }
   ],
   "source": [
    "predictions = torch.stack(trainer.predict(model, test_dataloader)).flatten().numpy()"
   ]
  },
  {
   "cell_type": "markdown",
   "metadata": {},
   "source": [
    "# Results\n",
    "\n",
    "We can again use the handy `polaris` library to look at the results of our predictions:"
   ]
  },
  {
   "cell_type": "code",
   "execution_count": 11,
   "metadata": {},
   "outputs": [
    {
     "data": {
      "text/html": [
       "<table border=\"1\"><tr><th>benchmark_artifact_id</th><td>polaris/pkis2-egfr-wt-c-1</td></tr><tr><th>benchmark_name</th><td>None</td></tr><tr><th>benchmark_owner</th><td>None</td></tr><tr><th>results</th><td><table border=\"1\"><thead><tr><th>test_set</th><th>target_label</th><th>scores</th></tr></thead><tbody><tr><td>test</td><td>CLASS_EGFR</td><td><table border=\"1\"><tr><th>accuracy</th><td>0.9236111111111112</td></tr><tr><th>pr_auc</th><td>0.7750935064383808</td></tr><tr><th>f1</th><td>0.5217391304347826</td></tr><tr><th>cohen_kappa</th><td>0.4870466321243523</td></tr><tr><th>roc_auc</th><td>0.9521484375</td></tr><tr><th>mcc</th><td>0.536591218301113</td></tr></table></td></tr></tbody></table></td></tr><tr><th>name</th><td>fastprop</td></tr><tr><th>description</th><td>fastprop-based FNN model</td></tr><tr><th>tags</th><td><ul><li>mordred</li><li>mordredcommunity</li><li>fastprop</li><li>fnn</li></ul></td></tr><tr><th>user_attributes</th><td><table border=\"1\"><tr><th>Framework</th><td>fastprop</td></tr></table></td></tr><tr><th>owner</th><td>None</td></tr><tr><th>polaris_version</th><td>0.11.10</td></tr><tr><th>github_url</th><td>https://github.com/JacksonBurns/fastprop/blob/main/examples/fastprop_polaris_classification_demo.ipynb</td></tr><tr><th>paper_url</th><td>https://github.com/JacksonBurns/fastprop/blob/main/paper/paper.pdf</td></tr><tr><th>contributors</th><td></td></tr><tr><th>slug</th><td>fastprop</td></tr><tr><th>artifact_id</th><td>None</td></tr><tr><th>urn</th><td>None</td></tr><tr><th>version</th><td>1</td></tr></table>"
      ],
      "text/plain": [
       "{\n",
       "  \"benchmark_artifact_id\": \"polaris/pkis2-egfr-wt-c-1\",\n",
       "  \"benchmark_name\": null,\n",
       "  \"benchmark_owner\": null,\n",
       "  \"results\": [\n",
       "    {\n",
       "      \"test_set\": \"test\",\n",
       "      \"target_label\": \"CLASS_EGFR\",\n",
       "      \"scores\": {\n",
       "        \"accuracy\": 0.9236111111111112,\n",
       "        \"pr_auc\": 0.7750935064383808,\n",
       "        \"f1\": 0.5217391304347826,\n",
       "        \"cohen_kappa\": 0.4870466321243523,\n",
       "        \"roc_auc\": 0.9521484375,\n",
       "        \"mcc\": 0.536591218301113\n",
       "      }\n",
       "    }\n",
       "  ],\n",
       "  \"name\": \"fastprop\",\n",
       "  \"description\": \"fastprop-based FNN model\",\n",
       "  \"tags\": [\n",
       "    \"mordred\",\n",
       "    \"mordredcommunity\",\n",
       "    \"fastprop\",\n",
       "    \"fnn\"\n",
       "  ],\n",
       "  \"user_attributes\": {\n",
       "    \"Framework\": \"fastprop\"\n",
       "  },\n",
       "  \"owner\": null,\n",
       "  \"polaris_version\": \"0.11.10\",\n",
       "  \"github_url\": \"https://github.com/JacksonBurns/fastprop/blob/main/examples/fastprop_polaris_classification_demo.ipynb\",\n",
       "  \"paper_url\": \"https://github.com/JacksonBurns/fastprop/blob/main/paper/paper.pdf\",\n",
       "  \"contributors\": [],\n",
       "  \"slug\": \"fastprop\",\n",
       "  \"artifact_id\": null,\n",
       "  \"urn\": null,\n",
       "  \"version\": 1\n",
       "}"
      ]
     },
     "execution_count": 11,
     "metadata": {},
     "output_type": "execute_result"
    }
   ],
   "source": [
    "results = benchmark.evaluate(predictions > 0.5, predictions)\n",
    "results.name = \"fastprop\"\n",
    "results.github_url = \"https://github.com/JacksonBurns/fastprop/blob/main/examples/fastprop_polaris_classification_demo.ipynb\"\n",
    "results.paper_url = \"https://github.com/JacksonBurns/fastprop/blob/main/paper/paper.pdf\"\n",
    "results.description = \"fastprop-based FNN model\"\n",
    "results.tags = [\"mordred\", \"mordredcommunity\", \"fastprop\", \"fnn\"]\n",
    "results.user_attributes = {\"Framework\": \"fastprop\"}\n",
    "results"
   ]
  },
  {
   "cell_type": "markdown",
   "metadata": {},
   "source": [
    "Looks pretty good!\n",
    "Let's upload to the `polaris` website for everyone to see (this next block is commented because it will fail unless you are logged in to `polaris`):"
   ]
  },
  {
   "cell_type": "code",
   "execution_count": null,
   "metadata": {},
   "outputs": [],
   "source": [
    "# results.upload_to_hub(owner=\"jacksonburns\", access=\"public\")"
   ]
  }
 ],
 "metadata": {
  "kernelspec": {
   "display_name": "fastprop_dev",
   "language": "python",
   "name": "python3"
  },
  "language_info": {
   "codemirror_mode": {
    "name": "ipython",
    "version": 3
   },
   "file_extension": ".py",
   "mimetype": "text/x-python",
   "name": "python",
   "nbconvert_exporter": "python",
   "pygments_lexer": "ipython3",
   "version": "3.11.11"
  }
 },
 "nbformat": 4,
 "nbformat_minor": 2
}
